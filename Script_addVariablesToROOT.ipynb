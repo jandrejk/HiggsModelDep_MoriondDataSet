{
 "cells": [
  {
   "cell_type": "code",
   "execution_count": 1,
   "metadata": {
    "collapsed": false
   },
   "outputs": [
    {
     "data": {
      "application/javascript": [
       "require(['codemirror/mode/clike/clike'], function(Clike) { console.log('ROOTaaS - C++ CodeMirror module loaded'); });"
      ]
     },
     "metadata": {},
     "output_type": "display_data"
    },
    {
     "data": {
      "application/javascript": [
       "IPython.CodeCell.config_defaults.highlight_modes['magic_text/x-c++src'] = {'reg':[/^%%cpp/]};"
      ]
     },
     "metadata": {},
     "output_type": "display_data"
    },
    {
     "name": "stdout",
     "output_type": "stream",
     "text": [
      "Welcome to ROOTaaS 6.06/05\n"
     ]
    }
   ],
   "source": [
    "import ROOT as r\n",
    "import numpy as np"
   ]
  },
  {
   "cell_type": "code",
   "execution_count": 3,
   "metadata": {
    "collapsed": true
   },
   "outputs": [],
   "source": [
    "root_dir = '/mnt/t3nfs01/data01/shome/jandrejk/higgs_model_dep/MoriondAnalysis/data/allGgH_125.root'\n",
    "prefix = 'genDiphotonDumper/trees/'#InsideAcceptance_125_13TeV_NoTag_0'"
   ]
  },
  {
   "cell_type": "code",
   "execution_count": 4,
   "metadata": {
    "collapsed": false,
    "scrolled": true
   },
   "outputs": [
    {
     "name": "stdout",
     "output_type": "stream",
     "text": [
      "<ROOT.TFile object (\"/mnt/t3nfs01/data01/shome/jandrejk/higgs_model_dep/MoriondAnalysis/data/allGgH_125.root\") at 0x52e6780>\n",
      "<ROOT.TTree object (\"genDiphotonDumper/trees/\") at 0x5288de0>\n"
     ]
    }
   ],
   "source": [
    "f = r.TFile(root_dir,'recreate')\n",
    "t = r.TTree(prefix,'InsideAcceptance_125_13TeV_NoTag_0')\n",
    "\n",
    "print f\n",
    "print t\n",
    "\n",
    "#b = ROOT.TBranch('new')\n",
    "\n",
    "\"\"\"t.create\n",
    "\n",
    "n = np.zeros(118532, dtype=float)\n",
    "\n",
    "t.Branch('normal', n, 'normal/D')\n",
    "\n",
    "\n",
    "print t\n",
    "\n",
    "for i in xrange(118532):\n",
    "    #print t.GetEntry(i)\n",
    "    n[i] = ROOT.gRandom.Gaus()\n",
    "    t.Fill()\n",
    "\n",
    "\"\"\"\n",
    "f.Write()\n",
    "f.Close()"
   ]
  },
  {
   "cell_type": "code",
   "execution_count": null,
   "metadata": {
    "collapsed": true
   },
   "outputs": [],
   "source": []
  },
  {
   "cell_type": "code",
   "execution_count": null,
   "metadata": {
    "collapsed": true
   },
   "outputs": [],
   "source": []
  },
  {
   "cell_type": "code",
   "execution_count": null,
   "metadata": {
    "collapsed": true
   },
   "outputs": [],
   "source": []
  },
  {
   "cell_type": "code",
   "execution_count": null,
   "metadata": {
    "collapsed": true
   },
   "outputs": [],
   "source": []
  },
  {
   "cell_type": "code",
   "execution_count": null,
   "metadata": {
    "collapsed": true
   },
   "outputs": [],
   "source": []
  },
  {
   "cell_type": "code",
   "execution_count": null,
   "metadata": {
    "collapsed": true
   },
   "outputs": [],
   "source": []
  },
  {
   "cell_type": "code",
   "execution_count": null,
   "metadata": {
    "collapsed": true
   },
   "outputs": [],
   "source": []
  },
  {
   "cell_type": "code",
   "execution_count": null,
   "metadata": {
    "collapsed": true
   },
   "outputs": [],
   "source": []
  },
  {
   "cell_type": "code",
   "execution_count": null,
   "metadata": {
    "collapsed": true
   },
   "outputs": [],
   "source": []
  },
  {
   "cell_type": "code",
   "execution_count": null,
   "metadata": {
    "collapsed": true
   },
   "outputs": [],
   "source": []
  },
  {
   "cell_type": "code",
   "execution_count": null,
   "metadata": {
    "collapsed": true
   },
   "outputs": [],
   "source": []
  },
  {
   "cell_type": "code",
   "execution_count": null,
   "metadata": {
    "collapsed": true
   },
   "outputs": [],
   "source": []
  },
  {
   "cell_type": "code",
   "execution_count": null,
   "metadata": {
    "collapsed": true
   },
   "outputs": [],
   "source": []
  },
  {
   "cell_type": "code",
   "execution_count": 3,
   "metadata": {
    "collapsed": false
   },
   "outputs": [
    {
     "name": "stderr",
     "output_type": "stream",
     "text": [
      "/swshare/anaconda/lib/python2.7/site-packages/IPython/kernel/__init__.py:13: ShimWarning: The `IPython.kernel` package has been deprecated. You should import from ipykernel or jupyter_client instead.\n",
      "  \"You should import from ipykernel or jupyter_client instead.\", ShimWarning)\n"
     ]
    }
   ],
   "source": [
    "from rootpy.tree import Tree\n",
    "from rootpy.io import root_open"
   ]
  },
  {
   "cell_type": "code",
   "execution_count": 11,
   "metadata": {
    "collapsed": false
   },
   "outputs": [],
   "source": [
    "root_dir = '/mnt/t3nfs01/data01/shome/jandrejk/higgs_model_dep/MoriondAnalysis/data/allGgH_125.root'\n",
    "prefix = 'genDiphotonDumper/trees/'#InsideAcceptance_125_13TeV_NoTag_0'"
   ]
  },
  {
   "cell_type": "code",
   "execution_count": 14,
   "metadata": {
    "collapsed": false
   },
   "outputs": [
    {
     "name": "stdout",
     "output_type": "stream",
     "text": [
      "<ROOT.TFile object (\"/mnt/t3nfs01/data01/shome/jandrejk/higgs_model_dep/MoriondAnalysis/data/allGgH_125.root\") at 0x5446130>\n",
      "<ROOT.TObject object at 0x(nil)>\n"
     ]
    },
    {
     "ename": "AttributeError",
     "evalue": "'TObject' object has no attribute 'GetEntriesFast'",
     "output_type": "error",
     "traceback": [
      "\u001b[0;31m\u001b[0m",
      "\u001b[0;31mAttributeError\u001b[0mTraceback (most recent call last)",
      "\u001b[0;32m<ipython-input-14-12a6dd02c714>\u001b[0m in \u001b[0;36m<module>\u001b[0;34m()\u001b[0m\n\u001b[1;32m     11\u001b[0m \u001b[0;32mprint\u001b[0m \u001b[0mmychain\u001b[0m\u001b[0;34m\u001b[0m\u001b[0m\n\u001b[1;32m     12\u001b[0m \u001b[0;34m\u001b[0m\u001b[0m\n\u001b[0;32m---> 13\u001b[0;31m \u001b[0mentries\u001b[0m \u001b[0;34m=\u001b[0m \u001b[0mmychain\u001b[0m\u001b[0;34m.\u001b[0m\u001b[0mGetEntriesFast\u001b[0m\u001b[0;34m(\u001b[0m\u001b[0;34m)\u001b[0m\u001b[0;34m\u001b[0m\u001b[0m\n\u001b[0m\u001b[1;32m     14\u001b[0m \u001b[0;34m\u001b[0m\u001b[0m\n\u001b[1;32m     15\u001b[0m \u001b[0;32mprint\u001b[0m \u001b[0mentries\u001b[0m\u001b[0;34m\u001b[0m\u001b[0m\n",
      "\u001b[0;31mAttributeError\u001b[0m: 'TObject' object has no attribute 'GetEntriesFast'"
     ]
    }
   ],
   "source": [
    "from ROOT import TFile\n",
    "from ROOT import gDirectory\n",
    "\n",
    "# open the file\n",
    "myfile = TFile( root_dir)\n",
    "#myfile.cd(prefix)\n",
    "print myfile\n",
    "\n",
    "# retrieve the ntuple of interest\n",
    "mychain = gDirectory.Get( 'InsideAcceptance_125_13TeV_NoTag_0' )\n",
    "print mychain\n",
    "\n",
    "entries = mychain.GetEntriesFast()\n",
    "\n",
    "print entries\n",
    "\n",
    "\"\"\"\n",
    "for jentry in xrange( entries ):\n",
    " # get the next tree in the chain and verify\n",
    "   ientry = mychain.LoadTree( jentry )\n",
    "   if ientry < 0:\n",
    "      break\n",
    "\n",
    " # copy next entry into memory and verify\n",
    "   nb = mychain.GetEntry( jentry )\n",
    "   if nb <= 0:\n",
    "      continue\n",
    "\n",
    " # use the values directly from the tree\n",
    "   nEvent = int(mychain.ev)\n",
    "   if nEvent < 0:\n",
    "      continue\n",
    "\n",
    "   print mychain.pz, '=', mychain.px*mychain.px, '+', mychain.py*mychain.py\"\"\""
   ]
  },
  {
   "cell_type": "code",
   "execution_count": null,
   "metadata": {
    "collapsed": true
   },
   "outputs": [],
   "source": []
  },
  {
   "cell_type": "code",
   "execution_count": null,
   "metadata": {
    "collapsed": true
   },
   "outputs": [],
   "source": []
  },
  {
   "cell_type": "code",
   "execution_count": 17,
   "metadata": {
    "collapsed": false
   },
   "outputs": [
    {
     "data": {
      "text/plain": [
       "False"
      ]
     },
     "execution_count": 17,
     "metadata": {},
     "output_type": "execute_result"
    }
   ],
   "source": [
    "from rootpy.tree import Tree\n",
    "from rootpy.io import root_open\n",
    "from random import gauss\n",
    "\n",
    "f = root_open(\"testtest.root\", \"recreate\")\n",
    "\n",
    "\n",
    "tree = Tree(\"test\")\n",
    "tree.create_branches(\n",
    "    {'x': 'F',\n",
    "     'y': 'F',\n",
    "     'z': 'F',\n",
    "     'i': 'I'})\n",
    "\n",
    "for i in xrange(10000):\n",
    "    tree.x = gauss(.5, 1.)\n",
    "    tree.y = gauss(.3, 2.)\n",
    "    tree.z = gauss(13., 42.)\n",
    "    tree.i = i\n",
    "    tree.fill()\n",
    "tree.write()\n",
    "\n",
    "f.close()"
   ]
  },
  {
   "cell_type": "code",
   "execution_count": null,
   "metadata": {
    "collapsed": true
   },
   "outputs": [],
   "source": []
  },
  {
   "cell_type": "code",
   "execution_count": null,
   "metadata": {
    "collapsed": true
   },
   "outputs": [],
   "source": []
  },
  {
   "cell_type": "code",
   "execution_count": null,
   "metadata": {
    "collapsed": true
   },
   "outputs": [],
   "source": []
  }
 ],
 "metadata": {
  "anaconda-cloud": {},
  "kernelspec": {
   "display_name": "Python [default]",
   "language": "python",
   "name": "python2"
  },
  "language_info": {
   "codemirror_mode": {
    "name": "ipython",
    "version": 2
   },
   "file_extension": ".py",
   "mimetype": "text/x-python",
   "name": "python",
   "nbconvert_exporter": "python",
   "pygments_lexer": "ipython2",
   "version": "2.7.12"
  }
 },
 "nbformat": 4,
 "nbformat_minor": 1
}
