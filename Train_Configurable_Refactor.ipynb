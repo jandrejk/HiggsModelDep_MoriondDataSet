{
 "cells": [
  {
   "cell_type": "markdown",
   "metadata": {
    "collapsed": true
   },
   "source": [
    "# Train classifier to estimate analysis efficiency vs gen variable\n",
    "\n",
    "- Actual training code in train.py\n",
    "- Classifier based on sklearn. Default is GradientBoostedClassifier, \n",
    "    but can be specified at run time."
   ]
  },
  {
   "cell_type": "markdown",
   "metadata": {},
   "source": [
    "## Load libraries"
   ]
  },
  {
   "cell_type": "code",
   "execution_count": 1,
   "metadata": {
    "collapsed": false
   },
   "outputs": [
    {
     "data": {
      "application/javascript": [
       "require(['codemirror/mode/clike/clike'], function(Clike) { console.log('ROOTaaS - C++ CodeMirror module loaded'); });"
      ]
     },
     "metadata": {},
     "output_type": "display_data"
    },
    {
     "data": {
      "application/javascript": [
       "IPython.CodeCell.config_defaults.highlight_modes['magic_text/x-c++src'] = {'reg':[/^%%cpp/]};"
      ]
     },
     "metadata": {},
     "output_type": "display_data"
    },
    {
     "name": "stdout",
     "output_type": "stream",
     "text": [
      "Welcome to ROOTaaS 6.06/05\n"
     ]
    },
    {
     "data": {
      "text/plain": [
       "<module 'util' from 'util.pyc'>"
      ]
     },
     "execution_count": 1,
     "metadata": {},
     "output_type": "execute_result"
    }
   ],
   "source": [
    "import train as tn\n",
    "#reload(tn)\n",
    "\n",
    "import plotting\n",
    "reload(plotting)\n",
    "\n",
    "import matplotlib.pyplot as plt\n",
    "plt.style.use('seaborn-poster')\n",
    "%matplotlib inline\n",
    "\n",
    "import numpy as np\n",
    "\n",
    "from pprint import pprint\n",
    "\n",
    "import os\n",
    "import json\n",
    "import importlib\n",
    "\n",
    "import util as ut\n",
    "reload(ut)"
   ]
  },
  {
   "cell_type": "markdown",
   "metadata": {},
   "source": [
    "## Instantiate helper class\n",
    "\n",
    "Data are read from ROOT trees and converted into pandas data frames.  \n",
    "The loading function makes sure that all the needed columns have been read from the trees, otherwise it rebilds the data frame.\n"
   ]
  },
  {
   "cell_type": "markdown",
   "metadata": {},
   "source": [
    "#### In the following cell the parameters are set up. In this case a new classifier will be initiated with the name effGenVarClass and stored in the directory \"classifiers\". The training data will be read from a root tree located in dataDir. The branches of gen and reco events are the default ones (look at the help function for detailed information)."
   ]
  },
  {
   "cell_type": "code",
   "execution_count": 2,
   "metadata": {
    "collapsed": true
   },
   "outputs": [],
   "source": [
    "ut.defaultParameters(dataDir=\"/mnt/t3nfs01/data01/shome/jandrejk/higgs_model_dep/MoriondAnalysis/data\", \n",
    "                     classifiers=['class','recoPt','recoNjets2p5'],\n",
    "                          load = True,\n",
    "                     inputName = \"2clfs\",\n",
    "                       outName = \"3clfs\",\n",
    "                        outDir = './classifiers',\n",
    "                    inputDir = '/mnt/t3nfs01/data01/shome/jandrejk/higgs_model_dep/MoriondAnalysis/classifiers',\n",
    "                    defineBins = { 'recoPt' : dict(boundaries=[0.,15.,30.,45.,85.,125.,200.,350.,10000.],overflow=False), # do not add overflow automatically\n",
    "                                  'recoNjets2p5' : dict(boundaries=[-0.5,0.5,1.5,2.5,3.5,100.],overflow=False)\n",
    "                    #              #'genPt' : dict(boundaries=[0.,15.,30.,45.,85.,125.,200.,350.,10000.],overflow=False), # do not add overflow automatically\n",
    "                    #              #'genNjets2p5' : dict(boundaries=[-0.5,0.5,1.5,2.5,3.5,100.],overflow=False)\n",
    "                                 },\n",
    "                     dataFiles=[(0,'output_GluGluHToGG_M125_IA.root'),                   \n",
    "                                (1,'output_ttHToGG_M125_IA.root'),                     \n",
    "                                (2,'output_VBFHToGG_M125_IA.root'),                            \n",
    "                                (3,'output_VHToGG_M125_IA.root'),\n",
    "                               ]\n",
    "                    )\n",
    "\n"
   ]
  },
  {
   "cell_type": "markdown",
   "metadata": {},
   "source": [
    "\n",
    "In case you need help or further explanation you can execute the help function:"
   ]
  },
  {
   "cell_type": "markdown",
   "metadata": {},
   "source": [
    "#### We want to use machine learning techniques for classification. For that we need to specify the classifier we want to use like here the GradientBoostingClassifier from sklearn.ensamble. Furthermore the parameters of the used classifier have to be set, e.g. the number of training events, max. tree depth, learning rate and so forth."
   ]
  },
  {
   "cell_type": "code",
   "execution_count": 3,
   "metadata": {
    "collapsed": false
   },
   "outputs": [
    {
     "data": {
      "text/plain": [
       "\"'absCosDeltaAlpha01',\\n'absCosDeltaAlpha02',\\n'absCosDeltaAlpha03',\\n'absCosDeltaAlpha04',\\n'absCosDeltaAlpha05',\\n'absCosDeltaAlpha12',\\n'absCosDeltaAlpha13',\\n'absCosDeltaAlpha14',\\n'absCosDeltaAlpha15',\\n'absCosDeltaAlpha23',\\n'absCosDeltaAlpha24',\\n'absCosDeltaAlpha25',\\n'absCosDeltaAlpha34',\\n'absCosDeltaAlpha35',\\n'absCosDeltaAlpha45',\\n'absCosDeltaPhi01',\\n'absCosDeltaPhi02',\\n'absCosDeltaPhi03',\\n'absCosDeltaPhi04',\\n'absCosDeltaPhi05',\\n'absCosDeltaPhi12',\\n'absCosDeltaPhi13',\\n'absCosDeltaPhi14',\\n'absCosDeltaPhi15',\\n'absCosDeltaPhi23',\\n'absCosDeltaPhi24',\\n'absCosDeltaPhi25',\\n'absCosDeltaPhi34',\\n'absCosDeltaPhi35',\\n'absCosDeltaPhi45',\\n\""
      ]
     },
     "execution_count": 3,
     "metadata": {},
     "output_type": "execute_result"
    }
   ],
   "source": [
    "ut.params[\"class\"] = [ \"sklearn.ensemble.GradientBoostingClassifier\", \n",
    "                      dict(trainevts= -1,\n",
    "                           max_depth=5,learning_rate=0.2,n_estimators=200,\n",
    "                        min_weight_fraction_leaf=1e-3)\n",
    "]\n",
    "\n",
    "\n",
    "ut.params['recoPt'] = [\"xgboost.sklearn.XGBClassifier\",\n",
    "                       { \"Xbr\" : [\"genPt\",\"absGenRapidity\"],#,'genLeadGenIso','genSubleadGenIso'],\n",
    "                        \"trainevts\" : -1, \n",
    "                        \"max_depth\" : 5,\"learning_rate\" : 0.1,\n",
    "                        \"n_estimators\" : 500,\"min_child_weight\" : 1e-5,\n",
    "                        \"nthread\" : 4}]\n",
    "\n",
    "\"\"\",\n",
    "                        \"cvoptimize\" : True,\"cv_params_grid\" : { \"max_depth\" : [5, 7, 10],\n",
    "                                                                 \"learning_rate\" : [0.05, 0.1, 0.2], \n",
    "                                                                 \"n_estimators\" : [250,500,700,1000],\n",
    "                                                                 \"min_child_weight\" : [1e-4, 5e-4, 1e-3],\n",
    "                                                                 \"subsample\" : [0.1, 0.2, 0.5, 1.]}, \n",
    "                        \"cv_nfolds\" : 5, \"cv_niter\" : 5,      \n",
    "\"\"\"\n",
    "\n",
    "ut.params['recoNjets2p5'] =  [\"xgboost.sklearn.XGBClassifier\",\n",
    "                        { \"Xbr\" : [\"genJet2p5Pt0\",  \"absGenJet2p5Rapidity0\",\n",
    "                                   \"genJet2p5Pt1\", \"absGenJet2p5Rapidity1\",\n",
    "                                   \"genJet2p5Pt2\", \"absGenJet2p5Rapidity2\",\n",
    "                                   \"genJet2p5Pt3\", \"absGenJet2p5Rapidity3\",\n",
    "                                   \"genJet2p5Pt4\",  \"absGenJet2p5Rapidity4\",\n",
    "                                   \"genJet2p5Pt5\",  \"absGenJet2p5Rapidity5\",\n",
    "                                   \"genPt\",\"absGenRapidity\",\n",
    "                                   \"genNjets2p5\",\n",
    "                                   'absCosDeltaAlpha01','absCosDeltaAlpha02','absCosDeltaAlpha03',\n",
    "                                   'absCosDeltaAlpha04','absCosDeltaAlpha05','absCosDeltaAlpha12',\n",
    "                                   'absCosDeltaAlpha13','absCosDeltaAlpha14','absCosDeltaAlpha15',\n",
    "                                   'absCosDeltaAlpha23','absCosDeltaAlpha24','absCosDeltaAlpha25',\n",
    "                                   'absCosDeltaAlpha34','absCosDeltaAlpha35','absCosDeltaAlpha45',\n",
    "                                   'absCosDeltaPhi01','absCosDeltaPhi02','absCosDeltaPhi03',\n",
    "                                   'absCosDeltaPhi04','absCosDeltaPhi05','absCosDeltaPhi12',\n",
    "                                   'absCosDeltaPhi13','absCosDeltaPhi14','absCosDeltaPhi15',\n",
    "                                   'absCosDeltaPhi23','absCosDeltaPhi24','absCosDeltaPhi25',\n",
    "                                   'absCosDeltaPhi34','absCosDeltaPhi35','absCosDeltaPhi45'\n",
    "                                ],                         \n",
    "            \"trainevts\" : -1, \"max_depth\" : 7,\n",
    "            \"learning_rate\" : 0.1,\"n_estimators\" : 500,\n",
    "            \"min_child_weight\" : 1e-5,\n",
    "            \"nthread\" : 16 }]\n",
    "\n"
   ]
  },
  {
   "cell_type": "markdown",
   "metadata": {},
   "source": [
    "$\\color{red}{\\text{changes in class become also active without ut.setParams(). }}$"
   ]
  },
  {
   "cell_type": "code",
   "execution_count": 4,
   "metadata": {
    "collapsed": false
   },
   "outputs": [
    {
     "name": "stdout",
     "output_type": "stream",
     "text": [
      "entered config files named my_train_config\n",
      "hi\n",
      "None\n"
     ]
    }
   ],
   "source": [
    "#set the parameters \"class\" defined above\n",
    "\"\"\"\n",
    "? discuss the function setParams() with Pasquale\n",
    "\"\"\"\n",
    "ut.setParams()\n",
    "# manual fix in order that the json file doesn't overwrite inputDir\n",
    "ut.params['inputDir'] = \"/mnt/t3nfs01/data01/shome/jandrejk/higgs_model_dep/MoriondAnalysis/classifiers\"\n",
    "\n",
    "# manual fixes because trees don't have rapidities and genJetRapidities\n",
    "\n",
    "\"\"\"ut.params['genBranches'] = ['genPt','genRapidity','genJet2p5Pt0','genJet2p5Pt1','genJet2p5Pt2',\n",
    "'genJet2p5Pt3','genJet2p5Pt4','genJet2p5Pt5','weight','genNjets2p5','genLeadGenIso','genSubleadGenIso'] \n",
    "\"\"\"\n",
    "\n",
    "ut.params['genpfx'] = 'genDiphotonDumper/trees/InsideAcceptance_125_13TeV'\n",
    "ut.params['pfx'] = 'tagsDumper/trees/InsideAcceptance_125_13TeV'\n",
    "ut.params['genBranches'] = ['genPt','genRapidity',\n",
    "                            'genJet2p5Pt0', 'genJet2p5Pt1', 'genJet2p5Pt2', 'genJet2p5Pt3', 'genJet2p5Pt4', 'genJet2p5Pt5',\n",
    "                            'genJet2p5Rapidity0', 'genJet2p5Rapidity1', 'genJet2p5Rapidity2', 'genJet2p5Rapidity3',\n",
    "                            'genJet2p5Rapidity4', 'genJet2p5Rapidity5',\n",
    "                            'weight',\n",
    "                            'genNjets2p5','genLeadGenIso','genSubleadGenIso',\n",
    "                           'absCosDeltaAlpha01','absCosDeltaAlpha02','absCosDeltaAlpha03',\n",
    "                           'absCosDeltaAlpha04','absCosDeltaAlpha05','absCosDeltaAlpha12',\n",
    "                           'absCosDeltaAlpha13','absCosDeltaAlpha14','absCosDeltaAlpha15',\n",
    "                           'absCosDeltaAlpha23','absCosDeltaAlpha24','absCosDeltaAlpha25',\n",
    "                           'absCosDeltaAlpha34','absCosDeltaAlpha35','absCosDeltaAlpha45',\n",
    "                           'absCosDeltaPhi01','absCosDeltaPhi02','absCosDeltaPhi03',\n",
    "                           'absCosDeltaPhi04','absCosDeltaPhi05','absCosDeltaPhi12',\n",
    "                           'absCosDeltaPhi13','absCosDeltaPhi14','absCosDeltaPhi15',\n",
    "                           'absCosDeltaPhi23','absCosDeltaPhi24','absCosDeltaPhi25',\n",
    "                           'absCosDeltaPhi34','absCosDeltaPhi35','absCosDeltaPhi45'\n",
    "                           ] \n",
    "\n",
    "ut.params['recoBranches'] = ['recoPt','recoRapidity','recoNjets2p5']\n",
    "\n",
    "\n",
    "\n",
    "#ut.params['recoBranches'] = ['recoPt','recoRapidity']"
   ]
  },
  {
   "cell_type": "code",
   "execution_count": 5,
   "metadata": {
    "collapsed": false
   },
   "outputs": [
    {
     "name": "stdout",
     "output_type": "stream",
     "text": [
      "genDiphotonDumper/trees/InsideAcceptance_125_13TeV\n",
      "tagsDumper/trees/InsideAcceptance_125_13TeV\n"
     ]
    }
   ],
   "source": [
    "print ut.params['genpfx']\n",
    "print ut.params['pfx']\n"
   ]
  },
  {
   "cell_type": "code",
   "execution_count": 6,
   "metadata": {
    "collapsed": false,
    "scrolled": false
   },
   "outputs": [
    {
     "name": "stdout",
     "output_type": "stream",
     "text": [
      "Load object with the name 2clfs and the following paramters \n",
      "loading\n",
      "2clfs\n",
      "/mnt/t3nfs01/data01/shome/jandrejk/higgs_model_dep/MoriondAnalysis/classifiers\n",
      "/mnt/t3nfs01/data01/shome/jandrejk/higgs_model_dep/MoriondAnalysis/classifiers\n",
      "/mnt/t3nfs01/data01/shome/jandrejk/higgs_model_dep/MoriondAnalysis/classifiers/2clfs.pkl.gz\n",
      "loading pickle /mnt/t3nfs01/data01/shome/jandrejk/higgs_model_dep/MoriondAnalysis/classifiers/2clfs.pkl.gz\n",
      "loading data /mnt/t3nfs01/data01/shome/jandrejk/higgs_model_dep/MoriondAnalysis/classifiers/2clfs.root\n",
      "<train.EfficiencyFitter object at 0x7f4ec2576a90>\n",
      "Index([u'absweight', u'class', u'genJet2p5Pt0', u'genJet2p5Pt1',\n",
      "       u'genJet2p5Pt2', u'genJet2p5Pt3', u'genJet2p5Pt4', u'genJet2p5Pt5',\n",
      "       u'genLeadGenIso', u'genNjets2p5', u'genPt', u'genRapidity',\n",
      "       u'genSubleadGenIso', u'recoPt', u'recoRapidity', u'weight', u'proc',\n",
      "       u'absGenRapidity', u'recoPtBin', u'recoPtCat', u'class_prob_0',\n",
      "       u'class_prob_1', u'class_prob_2', u'class_prob_3', u'recoPtCat_prob_0',\n",
      "       u'recoPtCat_prob_1', u'recoPtCat_prob_2', u'recoPtCat_prob_3',\n",
      "       u'recoPtCat_prob_4', u'recoPtCat_prob_5', u'recoPtCat_prob_6',\n",
      "       u'recoPtCat_prob_7', u'recoPtCat_prob_8', u'recoPtCat_prob_9',\n",
      "       u'recoPtCat_prob_10', u'recoPtCat_prob_11', u'recoPtCat_prob_12',\n",
      "       u'recoPtCat_prob_13', u'recoPtCat_prob_14', u'recoPtCat_prob_15',\n",
      "       u'recoPtCat_prob_16', u'recoPtCat_prob_17', u'recoPtCat_prob_18',\n",
      "       u'recoPtCat_prob_19', u'recoPtCat_prob_20', u'recoPtCat_prob_21',\n",
      "       u'recoPtCat_prob_22', u'recoPtCat_prob_23', u'recoPtCat_prob_24'],\n",
      "      dtype='object')\n",
      "{'class': GradientBoostingClassifier(criterion='friedman_mse', init=None,\n",
      "              learning_rate=0.2, loss='deviance', max_depth=5,\n",
      "              max_features=None, max_leaf_nodes=None,\n",
      "              min_impurity_split=1e-07, min_samples_leaf=1,\n",
      "              min_samples_split=2, min_weight_fraction_leaf=0.001,\n",
      "              n_estimators=200, presort='auto', random_state=None,\n",
      "              subsample=1.0, verbose=0, warm_start=False),\n",
      " 'recoPt': XGBClassifier(base_score=0.5, colsample_bylevel=1, colsample_bytree=1,\n",
      "       gamma=0, learning_rate=0.1, max_delta_step=0, max_depth=5,\n",
      "       min_child_weight=1e-05, missing=nan, n_estimators=500, nthread=8,\n",
      "       objective='multi:softprob', reg_alpha=0, reg_lambda=1,\n",
      "       scale_pos_weight=1, seed=0, silent=True, subsample=1)}\n",
      "('onDisk.genBranches', ['genPt', 'genRapidity', 'genJet2p5Pt0', 'genJet2p5Pt1', 'genJet2p5Pt2', 'genJet2p5Pt3', 'genJet2p5Pt4', 'genJet2p5Pt5', 'weight', 'genNjets2p5', 'genLeadGenIso', 'genSubleadGenIso'])\n",
      "('params[\"genBranches\"]', ['genPt', 'genRapidity', 'genJet2p5Pt0', 'genJet2p5Pt1', 'genJet2p5Pt2', 'genJet2p5Pt3', 'genJet2p5Pt4', 'genJet2p5Pt5', 'genJet2p5Rapidity0', 'genJet2p5Rapidity1', 'genJet2p5Rapidity2', 'genJet2p5Rapidity3', 'genJet2p5Rapidity4', 'genJet2p5Rapidity5', 'weight', 'genNjets2p5', 'genLeadGenIso', 'genSubleadGenIso'])\n",
      "('onDisk.recoBranches', ['recoPt', 'recoRapidity'])\n",
      "('params[\"recoBranches\"]', ['recoPt', 'recoRapidity', 'recoNjets2p5'])\n",
      "Warining: efficiency fitter on disk did not store the list of files. Is it and old one?\n",
      "('genpfx', 'genDiphotonDumper/trees/InsideAcceptance_125_13TeV')\n",
      "/mnt/t3nfs01/data01/shome/jandrejk/higgs_model_dep/MoriondAnalysis/data\n",
      "output_VHToGG_M125_IA.root\n",
      "tagsDumper/trees/InsideAcceptance_125_13TeV\n",
      "[('/mnt/t3nfs01/data01/shome/jandrejk/higgs_model_dep/MoriondAnalysis/data/output_GluGluHToGG_M125_IA.root', 0, 'tagsDumper/trees/InsideAcceptance_125_13TeV', True, 'genDiphotonDumper/trees/InsideAcceptance_125_13TeV'), ('/mnt/t3nfs01/data01/shome/jandrejk/higgs_model_dep/MoriondAnalysis/data/output_ttHToGG_M125_IA.root', 1, 'tagsDumper/trees/InsideAcceptance_125_13TeV', True, 'genDiphotonDumper/trees/InsideAcceptance_125_13TeV'), ('/mnt/t3nfs01/data01/shome/jandrejk/higgs_model_dep/MoriondAnalysis/data/output_VBFHToGG_M125_IA.root', 2, 'tagsDumper/trees/InsideAcceptance_125_13TeV', True, 'genDiphotonDumper/trees/InsideAcceptance_125_13TeV'), ('/mnt/t3nfs01/data01/shome/jandrejk/higgs_model_dep/MoriondAnalysis/data/output_VHToGG_M125_IA.root', 3, 'tagsDumper/trees/InsideAcceptance_125_13TeV', True, 'genDiphotonDumper/trees/InsideAcceptance_125_13TeV')]\n",
      "The number of selected events are 451428\n",
      "The number of selected events are 589260\n",
      "The number of selected events are 1258965\n",
      "The number of selected events are 1394515\n",
      "shuffling dataset\n",
      "defining bins\n",
      "recoPt\n",
      "<type 'str'>\n",
      "recoNjets2p5\n",
      "<type 'str'>\n",
      "CPU times: user 8.89 s, sys: 792 ms, total: 9.69 s\n",
      "Wall time: 9.73 s\n"
     ]
    }
   ],
   "source": [
    "reload(tn)\n",
    "%time effFitter = ut.loadOrMake()"
   ]
  },
  {
   "cell_type": "markdown",
   "metadata": {
    "collapsed": false
   },
   "source": [
    "## Train classifiers"
   ]
  },
  {
   "cell_type": "markdown",
   "metadata": {},
   "source": [
    "# $\\color{red}{\\text{What happens in the bellow 2 cells?}}$"
   ]
  },
  {
   "cell_type": "code",
   "execution_count": 7,
   "metadata": {
    "collapsed": false
   },
   "outputs": [],
   "source": [
    "#if ut.params.get(\"setupJoblib\",True):\n",
    "#   ut.setupJoblib(ipp_profile=ut.params.get('ippProfile','short'))"
   ]
  },
  {
   "cell_type": "markdown",
   "metadata": {},
   "source": [
    "###  make sure that the trained classifers have been evaluated"
   ]
  },
  {
   "cell_type": "code",
   "execution_count": 8,
   "metadata": {
    "collapsed": false,
    "scrolled": false
   },
   "outputs": [
    {
     "name": "stdout",
     "output_type": "stream",
     "text": [
      "['class', 'recoPt']\n",
      "class\n",
      "class\n",
      "class_prob_0\n",
      "Index([u'absweight', u'class', u'genJet2p5Pt0', u'genJet2p5Pt1',\n",
      "       u'genJet2p5Pt2', u'genJet2p5Pt3', u'genJet2p5Pt4', u'genJet2p5Pt5',\n",
      "       u'genJet2p5Rapidity0', u'genJet2p5Rapidity1', u'genJet2p5Rapidity2',\n",
      "       u'genJet2p5Rapidity3', u'genJet2p5Rapidity4', u'genJet2p5Rapidity5',\n",
      "       u'genLeadGenIso', u'genNjets2p5', u'genPt', u'genRapidity',\n",
      "       u'genSubleadGenIso', u'recoNjets2p5', u'recoPt', u'recoRapidity',\n",
      "       u'weight', u'proc', u'absGenRapidity', u'absGenJet2p5Rapidity0',\n",
      "       u'absGenJet2p5Rapidity1', u'absGenJet2p5Rapidity2',\n",
      "       u'absGenJet2p5Rapidity3', u'absGenJet2p5Rapidity4',\n",
      "       u'absGenJet2p5Rapidity5', u'recoPtBin', u'recoPtCat',\n",
      "       u'recoNjets2p5Bin', u'recoNjets2p5Cat'],\n",
      "      dtype='object')\n",
      "running prediction for class\n",
      "recoPt\n",
      "recoPtCat\n",
      "recoPtCat_prob_0\n",
      "Index([u'absweight', u'class', u'genJet2p5Pt0', u'genJet2p5Pt1',\n",
      "       u'genJet2p5Pt2', u'genJet2p5Pt3', u'genJet2p5Pt4', u'genJet2p5Pt5',\n",
      "       u'genJet2p5Rapidity0', u'genJet2p5Rapidity1', u'genJet2p5Rapidity2',\n",
      "       u'genJet2p5Rapidity3', u'genJet2p5Rapidity4', u'genJet2p5Rapidity5',\n",
      "       u'genLeadGenIso', u'genNjets2p5', u'genPt', u'genRapidity',\n",
      "       u'genSubleadGenIso', u'recoNjets2p5', u'recoPt', u'recoRapidity',\n",
      "       u'weight', u'proc', u'absGenRapidity', u'absGenJet2p5Rapidity0',\n",
      "       u'absGenJet2p5Rapidity1', u'absGenJet2p5Rapidity2',\n",
      "       u'absGenJet2p5Rapidity3', u'absGenJet2p5Rapidity4',\n",
      "       u'absGenJet2p5Rapidity5', u'recoPtBin', u'recoPtCat',\n",
      "       u'recoNjets2p5Bin', u'recoNjets2p5Cat', u'class_prob_0',\n",
      "       u'class_prob_1', u'class_prob_2', u'class_prob_3'],\n",
      "      dtype='object')\n",
      "running prediction for recoPt\n",
      "Index([u'absweight', u'class', u'genJet2p5Pt0', u'genJet2p5Pt1',\n",
      "       u'genJet2p5Pt2', u'genJet2p5Pt3', u'genJet2p5Pt4', u'genJet2p5Pt5',\n",
      "       u'genJet2p5Rapidity0', u'genJet2p5Rapidity1', u'genJet2p5Rapidity2',\n",
      "       u'genJet2p5Rapidity3', u'genJet2p5Rapidity4', u'genJet2p5Rapidity5',\n",
      "       u'genLeadGenIso', u'genNjets2p5', u'genPt', u'genRapidity',\n",
      "       u'genSubleadGenIso', u'recoNjets2p5', u'recoPt', u'recoRapidity',\n",
      "       u'weight', u'proc', u'absGenRapidity', u'absGenJet2p5Rapidity0',\n",
      "       u'absGenJet2p5Rapidity1', u'absGenJet2p5Rapidity2',\n",
      "       u'absGenJet2p5Rapidity3', u'absGenJet2p5Rapidity4',\n",
      "       u'absGenJet2p5Rapidity5', u'recoPtBin', u'recoPtCat',\n",
      "       u'recoNjets2p5Bin', u'recoNjets2p5Cat', u'class_prob_0',\n",
      "       u'class_prob_1', u'class_prob_2', u'class_prob_3', u'recoPtCat_prob_0',\n",
      "       u'recoPtCat_prob_1', u'recoPtCat_prob_2', u'recoPtCat_prob_3',\n",
      "       u'recoPtCat_prob_4', u'recoPtCat_prob_5', u'recoPtCat_prob_6',\n",
      "       u'recoPtCat_prob_7', u'recoPtCat_prob_8', u'recoPtCat_prob_9',\n",
      "       u'recoPtCat_prob_10', u'recoPtCat_prob_11', u'recoPtCat_prob_12',\n",
      "       u'recoPtCat_prob_13', u'recoPtCat_prob_14', u'recoPtCat_prob_15',\n",
      "       u'recoPtCat_prob_16', u'recoPtCat_prob_17', u'recoPtCat_prob_18',\n",
      "       u'recoPtCat_prob_19', u'recoPtCat_prob_20', u'recoPtCat_prob_21',\n",
      "       u'recoPtCat_prob_22', u'recoPtCat_prob_23', u'recoPtCat_prob_24'],\n",
      "      dtype='object')\n"
     ]
    }
   ],
   "source": [
    "ut.runEvaluation(effFitter)"
   ]
  },
  {
   "cell_type": "markdown",
   "metadata": {},
   "source": [
    "### Run the actual training"
   ]
  },
  {
   "cell_type": "code",
   "execution_count": 9,
   "metadata": {
    "collapsed": false
   },
   "outputs": [
    {
     "name": "stdout",
     "output_type": "stream",
     "text": [
      "We need to train the following classifiers recoNjets2p5\n",
      "Fitting recoNjets2p5\n",
      "<class 'xgboost.sklearn.XGBClassifier'>\n",
      "{'nthread': 2, 'learning_rate': 0.1, 'trainevts': 1000, 'min_child_weight': 1e-05, 'Xbr': ['genJet2p5Pt0', 'absGenJet2p5Rapidity0', 'genJet2p5Pt1', 'absGenJet2p5Rapidity1', 'genJet2p5Pt2', 'absGenJet2p5Rapidity2', 'genJet2p5Pt3', 'absGenJet2p5Rapidity3', 'genJet2p5Pt4', 'absGenJet2p5Rapidity4', 'genJet2p5Pt5', 'absGenJet2p5Rapidity5', 'genPt', 'absGenRapidity', 'genNjets2p5'], 'n_estimators': 500, 'max_depth': 7}\n",
      "['genJet2p5Pt0', 'absGenJet2p5Rapidity0', 'genJet2p5Pt1', 'absGenJet2p5Rapidity1', 'genJet2p5Pt2', 'absGenJet2p5Rapidity2', 'genJet2p5Pt3', 'absGenJet2p5Rapidity3', 'genJet2p5Pt4', 'absGenJet2p5Rapidity4', 'genJet2p5Pt5', 'absGenJet2p5Rapidity5', 'genPt', 'absGenRapidity', 'genNjets2p5', 'class_prob_0', 'class_prob_1', 'class_prob_2', 'class_prob_3']\n",
      "recoNjets2p5Cat\n",
      "cvoptimize False\n",
      "((1000, 19), 19000)\n",
      "((1000,), 1000)\n",
      "((1000,), 1000)\n",
      "[[ -9.99000000e+02   9.99000000e+02  -9.99000000e+02   9.99000000e+02\n",
      "   -9.99000000e+02   9.99000000e+02  -9.99000000e+02   9.99000000e+02\n",
      "   -9.99000000e+02   9.99000000e+02  -9.99000000e+02   9.99000000e+02\n",
      "    3.53882599e+01   7.22411513e-01   0.00000000e+00   2.40505350e-01\n",
      "    1.29541783e-01   3.25187638e-01   3.04765230e-01]\n",
      " [ -9.99000000e+02   9.99000000e+02  -9.99000000e+02   9.99000000e+02\n",
      "   -9.99000000e+02   9.99000000e+02  -9.99000000e+02   9.99000000e+02\n",
      "   -9.99000000e+02   9.99000000e+02  -9.99000000e+02   9.99000000e+02\n",
      "    1.40215836e+01   7.61200964e-01   0.00000000e+00   2.31204961e-01\n",
      "    8.81530361e-02   2.91961867e-01   3.88680136e-01]\n",
      " [ -9.99000000e+02   9.99000000e+02  -9.99000000e+02   9.99000000e+02\n",
      "   -9.99000000e+02   9.99000000e+02  -9.99000000e+02   9.99000000e+02\n",
      "   -9.99000000e+02   9.99000000e+02  -9.99000000e+02   9.99000000e+02\n",
      "    1.94383659e+01   1.19359410e+00   0.00000000e+00   3.21787057e-01\n",
      "    4.82481275e-04   6.56172469e-02   6.12113215e-01]]\n",
      "[ 8.  1. -1.]\n",
      "[ 0.00024485  0.00031171  0.00026381]\n",
      "CPU times: user 6min 28s, sys: 1.65 s, total: 6min 30s\n",
      "Wall time: 3min 17s\n"
     ]
    }
   ],
   "source": [
    "#reload(tn)\n",
    "#try negative weights\n",
    "%time ut.runTraining(effFitter,useAbsWeight=True)"
   ]
  },
  {
   "cell_type": "markdown",
   "metadata": {},
   "source": [
    "## Save the output"
   ]
  },
  {
   "cell_type": "code",
   "execution_count": 10,
   "metadata": {
    "collapsed": false
   },
   "outputs": [
    {
     "name": "stdout",
     "output_type": "stream",
     "text": [
      "./Train_Configurable_Refactor_higgs_model_dep_2255084.pkl.gz\n",
      "CPU times: user 9.95 s, sys: 237 ms, total: 10.2 s\n",
      "Wall time: 10.9 s\n"
     ]
    }
   ],
   "source": [
    "#reload(tn)\n",
    "%time tn.IO.save(effFitter)"
   ]
  },
  {
   "cell_type": "code",
   "execution_count": 11,
   "metadata": {
    "collapsed": true
   },
   "outputs": [],
   "source": []
  }
 ],
 "metadata": {
  "anaconda-cloud": {},
  "kernelspec": {
   "display_name": "Python [default]",
   "language": "python",
   "name": "python2"
  },
  "language_info": {
   "codemirror_mode": {
    "name": "ipython",
    "version": 2
   },
   "file_extension": ".py",
   "mimetype": "text/x-python",
   "name": "python",
   "nbconvert_exporter": "python",
   "pygments_lexer": "ipython2",
   "version": "2.7.12"
  }
 },
 "nbformat": 4,
 "nbformat_minor": 0
}
