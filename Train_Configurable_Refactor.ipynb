{
 "cells": [
  {
   "cell_type": "markdown",
   "metadata": {
    "collapsed": true
   },
   "source": [
    "# Train classifier to estimate analysis efficiency vs gen variable\n",
    "\n",
    "- Actual training code in train.py\n",
    "- Classifier based on sklearn. Default is GradientBoostedClassifier, \n",
    "    but can be specified at run time."
   ]
  },
  {
   "cell_type": "markdown",
   "metadata": {},
   "source": [
    "## Load libraries"
   ]
  },
  {
   "cell_type": "code",
   "execution_count": 1,
   "metadata": {
    "collapsed": false
   },
   "outputs": [
    {
     "data": {
      "application/javascript": [
       "require(['codemirror/mode/clike/clike'], function(Clike) { console.log('ROOTaaS - C++ CodeMirror module loaded'); });"
      ]
     },
     "metadata": {},
     "output_type": "display_data"
    },
    {
     "data": {
      "application/javascript": [
       "IPython.CodeCell.config_defaults.highlight_modes['magic_text/x-c++src'] = {'reg':[/^%%cpp/]};"
      ]
     },
     "metadata": {},
     "output_type": "display_data"
    },
    {
     "name": "stdout",
     "output_type": "stream",
     "text": [
      "Welcome to ROOTaaS 6.06/05\n"
     ]
    },
    {
     "data": {
      "text/plain": [
       "<module 'util' from 'util.pyc'>"
      ]
     },
     "execution_count": 1,
     "metadata": {},
     "output_type": "execute_result"
    }
   ],
   "source": [
    "import train as tn\n",
    "#reload(tn)\n",
    "\n",
    "import plotting\n",
    "reload(plotting)\n",
    "\n",
    "import matplotlib.pyplot as plt\n",
    "plt.style.use('seaborn-poster')\n",
    "%matplotlib inline\n",
    "\n",
    "import numpy as np\n",
    "\n",
    "from pprint import pprint\n",
    "\n",
    "import os\n",
    "import json\n",
    "import importlib\n",
    "\n",
    "import util as ut\n",
    "reload(ut)"
   ]
  },
  {
   "cell_type": "markdown",
   "metadata": {},
   "source": [
    "## Instantiate helper class\n",
    "\n",
    "Data are read from ROOT trees and converted into pandas data frames.  \n",
    "The loading function makes sure that all the needed columns have been read from the trees, otherwise it rebilds the data frame.\n"
   ]
  },
  {
   "cell_type": "markdown",
   "metadata": {},
   "source": [
    "#### In the following cell the parameters are set up. In this case a new classifier will be initiated with the name effGenVarClass and stored in the directory \"classifiers\". The training data will be read from a root tree located in dataDir. The branches of gen and reco events are the default ones (look at the help function for detailed information)."
   ]
  },
  {
   "cell_type": "code",
   "execution_count": 3,
   "metadata": {
    "collapsed": false
   },
   "outputs": [],
   "source": [
    "ut.defaultParameters(dataDir=\"/mnt/t3nfs01/data01/shome/jandrejk/higgs_model_dep/MoriondAnalysis/data\", \n",
    "                     classifiers=['class'],#,'recoPt','recoNjets2p5'],\n",
    "                          load = False,\n",
    "                     inputName = \"2clfs\",\n",
    "                       outName = \"3clfs\",\n",
    "                        outDir = './classifiers',\n",
    "                    inputDir = '/mnt/t3nfs01/data01/shome/jandrejk/higgs_model_dep/MoriondAnalysis/classifiers',\n",
    "                    defineBins = { 'recoPt' : dict(boundaries=[0.,15.,30.,45.,85.,125.,200.,350.,10000.],overflow=False), # do not add overflow automatically\n",
    "                                  'recoNjets2p5' : dict(boundaries=[-0.5,0.5,1.5,2.5,3.5,100.],overflow=False)\n",
    "                    #              #'genPt' : dict(boundaries=[0.,15.,30.,45.,85.,125.,200.,350.,10000.],overflow=False), # do not add overflow automatically\n",
    "                    #              #'genNjets2p5' : dict(boundaries=[-0.5,0.5,1.5,2.5,3.5,100.],overflow=False)\n",
    "                                 },\n",
    "                     dataFiles=[(0,'output_GluGluHToGG_M125_IA.root'),                   \n",
    "                                (1,'output_ttHToGG_M125_IA.root'),                     \n",
    "                                (2,'output_VBFHToGG_M125_IA.root'),                            \n",
    "                                (3,'output_VHToGG_M125_IA.root'),\n",
    "                               ]\n",
    "                    )\n",
    "\n"
   ]
  },
  {
   "cell_type": "markdown",
   "metadata": {},
   "source": [
    "\n",
    "In case you need help or further explanation you can execute the help function:"
   ]
  },
  {
   "cell_type": "markdown",
   "metadata": {},
   "source": [
    "#### We want to use machine learning techniques for classification. For that we need to specify the classifier we want to use like here the GradientBoostingClassifier from sklearn.ensamble. Furthermore the parameters of the used classifier have to be set, e.g. the number of training events, max. tree depth, learning rate and so forth."
   ]
  },
  {
   "cell_type": "code",
   "execution_count": 5,
   "metadata": {
    "collapsed": false
   },
   "outputs": [],
   "source": [
    "ut.params[\"class\"] = [ \"sklearn.ensemble.GradientBoostingClassifier\", \n",
    "                      dict(trainevts= 100,\n",
    "                           max_depth=5,learning_rate=0.2,n_estimators=200,\n",
    "                        min_weight_fraction_leaf=1e-3)\n",
    "]\n",
    "\n",
    "\n",
    "ut.params['recoPt'] = [\"xgboost.sklearn.XGBClassifier\",\n",
    "                       { \"Xbr\" : [\"genPt\",\"absGenRapidity\"],#,'genLeadGenIso','genSubleadGenIso'],\n",
    "                        \"trainevts\" : -1, \n",
    "                        \"max_depth\" : 5,\"learning_rate\" : 0.1,\n",
    "                        \"n_estimators\" : 500,\"min_child_weight\" : 1e-5,\n",
    "                        \"nthread\" : 4}]\n",
    "\n",
    "\"\"\",\n",
    "                        \"cvoptimize\" : True,\"cv_params_grid\" : { \"max_depth\" : [5, 7, 10],\n",
    "                                                                 \"learning_rate\" : [0.05, 0.1, 0.2], \n",
    "                                                                 \"n_estimators\" : [250,500,700,1000],\n",
    "                                                                 \"min_child_weight\" : [1e-4, 5e-4, 1e-3],\n",
    "                                                                 \"subsample\" : [0.1, 0.2, 0.5, 1.]}, \n",
    "                        \"cv_nfolds\" : 5, \"cv_niter\" : 5,      \n",
    "\"\"\"\n",
    "\n",
    "ut.params['recoNjets2p5'] =  [\"xgboost.sklearn.XGBClassifier\",\n",
    "                        { \"Xbr\" : [\"genJet2p5Pt0\",  \"absGenJet2p5Rapidity0\",\n",
    "                                   \"genJet2p5Pt1\", \"absGenJet2p5Rapidity1\",\n",
    "                                   \"genJet2p5Pt2\", \"absGenJet2p5Rapidity2\",\n",
    "                                   \"genJet2p5Pt3\", \"absGenJet2p5Rapidity3\",\n",
    "                                   \"genJet2p5Pt4\",  \"absGenJet2p5Rapidity4\",\n",
    "                                   \"genJet2p5Pt5\",  \"absGenJet2p5Rapidity5\",\n",
    "                                   \"genPt\",\"absGenRapidity\",\n",
    "                                   \"genNjets2p5\",\n",
    "                                   'absCosDeltaAlpha01','absCosDeltaAlpha02','absCosDeltaAlpha03',\n",
    "                                   'absCosDeltaAlpha04','absCosDeltaAlpha05','absCosDeltaAlpha12',\n",
    "                                   'absCosDeltaAlpha13','absCosDeltaAlpha14','absCosDeltaAlpha15',\n",
    "                                   'absCosDeltaAlpha23','absCosDeltaAlpha24','absCosDeltaAlpha25',\n",
    "                                   'absCosDeltaAlpha34','absCosDeltaAlpha35','absCosDeltaAlpha45',\n",
    "                                   'absCosDeltaPhi01','absCosDeltaPhi02','absCosDeltaPhi03',\n",
    "                                   'absCosDeltaPhi04','absCosDeltaPhi05','absCosDeltaPhi12',\n",
    "                                   'absCosDeltaPhi13','absCosDeltaPhi14','absCosDeltaPhi15',\n",
    "                                   'absCosDeltaPhi23','absCosDeltaPhi24','absCosDeltaPhi25',\n",
    "                                   'absCosDeltaPhi34','absCosDeltaPhi35','absCosDeltaPhi45'\n",
    "                                ],                         \n",
    "            \"trainevts\" : -1, \"max_depth\" : 7,\n",
    "            \"learning_rate\" : 0.1,\"n_estimators\" : 500,\n",
    "            \"min_child_weight\" : 1e-5,\n",
    "            \"nthread\" : 16 }]\n",
    "\n"
   ]
  },
  {
   "cell_type": "markdown",
   "metadata": {},
   "source": [
    "$\\color{red}{\\text{changes in class become also active without ut.setParams(). }}$"
   ]
  },
  {
   "cell_type": "code",
   "execution_count": 6,
   "metadata": {
    "collapsed": false
   },
   "outputs": [
    {
     "name": "stdout",
     "output_type": "stream",
     "text": [
      "entered config files named my_train_config\n",
      "hi\n",
      "None\n"
     ]
    }
   ],
   "source": [
    "#set the parameters \"class\" defined above\n",
    "\"\"\"\n",
    "? discuss the function setParams() with Pasquale\n",
    "\"\"\"\n",
    "ut.setParams()\n",
    "# manual fix in order that the json file doesn't overwrite inputDir\n",
    "ut.params['inputDir'] = \"/mnt/t3nfs01/data01/shome/jandrejk/higgs_model_dep/MoriondAnalysis/classifiers\"\n",
    "\n",
    "# manual fixes because trees don't have rapidities and genJetRapidities\n",
    "\n",
    "\"\"\"ut.params['genBranches'] = ['genPt','genRapidity','genJet2p5Pt0','genJet2p5Pt1','genJet2p5Pt2',\n",
    "'genJet2p5Pt3','genJet2p5Pt4','genJet2p5Pt5','weight','genNjets2p5','genLeadGenIso','genSubleadGenIso'] \n",
    "\"\"\"\n",
    "\n",
    "ut.params['genpfx'] = 'genDiphotonDumper/trees/InsideAcceptance_125_13TeV'\n",
    "ut.params['pfx'] = 'tagsDumper/trees/InsideAcceptance_125_13TeV'\n",
    "ut.params['genBranches'] = ['genPt','genRapidity',\n",
    "                            'genJet2p5Pt0', 'genJet2p5Pt1', 'genJet2p5Pt2', 'genJet2p5Pt3', 'genJet2p5Pt4', 'genJet2p5Pt5',\n",
    "                            'genJet2p5Rapidity0', 'genJet2p5Rapidity1', 'genJet2p5Rapidity2', 'genJet2p5Rapidity3',\n",
    "                            'genJet2p5Rapidity4', 'genJet2p5Rapidity5',\n",
    "                            'weight',\n",
    "                            'genNjets2p5','genLeadGenIso','genSubleadGenIso',\n",
    "                           'absCosDeltaAlpha01','absCosDeltaAlpha02','absCosDeltaAlpha03',\n",
    "                           'absCosDeltaAlpha04','absCosDeltaAlpha05','absCosDeltaAlpha12',\n",
    "                           'absCosDeltaAlpha13','absCosDeltaAlpha14','absCosDeltaAlpha15',\n",
    "                           'absCosDeltaAlpha23','absCosDeltaAlpha24','absCosDeltaAlpha25',\n",
    "                           'absCosDeltaAlpha34','absCosDeltaAlpha35','absCosDeltaAlpha45',\n",
    "                           'absCosDeltaPhi01','absCosDeltaPhi02','absCosDeltaPhi03',\n",
    "                           'absCosDeltaPhi04','absCosDeltaPhi05','absCosDeltaPhi12',\n",
    "                           'absCosDeltaPhi13','absCosDeltaPhi14','absCosDeltaPhi15',\n",
    "                           'absCosDeltaPhi23','absCosDeltaPhi24','absCosDeltaPhi25',\n",
    "                           'absCosDeltaPhi34','absCosDeltaPhi35','absCosDeltaPhi45'\n",
    "                           ] \n",
    "\n",
    "ut.params['recoBranches'] = ['recoPt','recoRapidity','recoNjets2p5']\n",
    "\n",
    "\n",
    "\n",
    "#ut.params['recoBranches'] = ['recoPt','recoRapidity']"
   ]
  },
  {
   "cell_type": "code",
   "execution_count": 7,
   "metadata": {
    "collapsed": false
   },
   "outputs": [
    {
     "name": "stdout",
     "output_type": "stream",
     "text": [
      "genDiphotonDumper/trees/InsideAcceptance_125_13TeV\n",
      "tagsDumper/trees/InsideAcceptance_125_13TeV\n"
     ]
    }
   ],
   "source": [
    "print ut.params['genpfx']\n",
    "print ut.params['pfx']\n"
   ]
  },
  {
   "cell_type": "code",
   "execution_count": 8,
   "metadata": {
    "collapsed": false,
    "scrolled": true
   },
   "outputs": [
    {
     "name": "stdout",
     "output_type": "stream",
     "text": [
      "Create object with the name 2clfs and the following paramters \n",
      "{'class': ['sklearn.ensemble.GradientBoostingClassifier',\n",
      "           {'learning_rate': 0.2,\n",
      "            'max_depth': 5,\n",
      "            'min_weight_fraction_leaf': 0.001,\n",
      "            'n_estimators': 200,\n",
      "            'trainevts': 100}],\n",
      " 'classifiers': ['class'],\n",
      " 'clean': [],\n",
      " 'dataDir': '/mnt/t3nfs01/data01/shome/jandrejk/higgs_model_dep/MoriondAnalysis/data',\n",
      " 'dataFiles': [(0, 'output_GluGluHToGG_M125_IA.root'),\n",
      "               (1, 'output_ttHToGG_M125_IA.root'),\n",
      "               (2, 'output_VBFHToGG_M125_IA.root'),\n",
      "               (3, 'output_VHToGG_M125_IA.root')],\n",
      " 'dataFname': 'output_InsideAcceptance_125.root',\n",
      " 'defineBins': {'recoNjets2p5': {'boundaries': [-0.5,\n",
      "                                                0.5,\n",
      "                                                1.5,\n",
      "                                                2.5,\n",
      "                                                3.5,\n",
      "                                                100.0],\n",
      "                                 'overflow': False},\n",
      "                'recoPt': {'boundaries': [0.0,\n",
      "                                          15.0,\n",
      "                                          30.0,\n",
      "                                          45.0,\n",
      "                                          85.0,\n",
      "                                          125.0,\n",
      "                                          200.0,\n",
      "                                          350.0,\n",
      "                                          10000.0],\n",
      "                           'overflow': False}},\n",
      " 'forceMake': False,\n",
      " 'genBranches': ['genPt',\n",
      "                 'genRapidity',\n",
      "                 'genJet2p5Pt0',\n",
      "                 'genJet2p5Pt1',\n",
      "                 'genJet2p5Pt2',\n",
      "                 'genJet2p5Pt3',\n",
      "                 'genJet2p5Pt4',\n",
      "                 'genJet2p5Pt5',\n",
      "                 'genJet2p5Rapidity0',\n",
      "                 'genJet2p5Rapidity1',\n",
      "                 'genJet2p5Rapidity2',\n",
      "                 'genJet2p5Rapidity3',\n",
      "                 'genJet2p5Rapidity4',\n",
      "                 'genJet2p5Rapidity5',\n",
      "                 'weight',\n",
      "                 'genNjets2p5',\n",
      "                 'genLeadGenIso',\n",
      "                 'genSubleadGenIso',\n",
      "                 'absCosDeltaAlpha01',\n",
      "                 'absCosDeltaAlpha02',\n",
      "                 'absCosDeltaAlpha03',\n",
      "                 'absCosDeltaAlpha04',\n",
      "                 'absCosDeltaAlpha05',\n",
      "                 'absCosDeltaAlpha12',\n",
      "                 'absCosDeltaAlpha13',\n",
      "                 'absCosDeltaAlpha14',\n",
      "                 'absCosDeltaAlpha15',\n",
      "                 'absCosDeltaAlpha23',\n",
      "                 'absCosDeltaAlpha24',\n",
      "                 'absCosDeltaAlpha25',\n",
      "                 'absCosDeltaAlpha34',\n",
      "                 'absCosDeltaAlpha35',\n",
      "                 'absCosDeltaAlpha45',\n",
      "                 'absCosDeltaPhi01',\n",
      "                 'absCosDeltaPhi02',\n",
      "                 'absCosDeltaPhi03',\n",
      "                 'absCosDeltaPhi04',\n",
      "                 'absCosDeltaPhi05',\n",
      "                 'absCosDeltaPhi12',\n",
      "                 'absCosDeltaPhi13',\n",
      "                 'absCosDeltaPhi14',\n",
      "                 'absCosDeltaPhi15',\n",
      "                 'absCosDeltaPhi23',\n",
      "                 'absCosDeltaPhi24',\n",
      "                 'absCosDeltaPhi25',\n",
      "                 'absCosDeltaPhi34',\n",
      "                 'absCosDeltaPhi35',\n",
      "                 'absCosDeltaPhi45'],\n",
      " 'genpfx': 'genDiphotonDumper/trees/InsideAcceptance_125_13TeV',\n",
      " 'inputDir': '/mnt/t3nfs01/data01/shome/jandrejk/higgs_model_dep/MoriondAnalysis/classifiers',\n",
      " 'inputName': '2clfs',\n",
      " 'load': False,\n",
      " 'ncats': 3,\n",
      " 'outDir': './classifiers',\n",
      " 'outName': '3clfs',\n",
      " 'pfx': 'tagsDumper/trees/InsideAcceptance_125_13TeV',\n",
      " 'recoBranches': ['recoPt', 'recoRapidity', 'recoNjets2p5'],\n",
      " 'recoNjets2p5': ['xgboost.sklearn.XGBClassifier',\n",
      "                  {'Xbr': ['genJet2p5Pt0',\n",
      "                           'absGenJet2p5Rapidity0',\n",
      "                           'genJet2p5Pt1',\n",
      "                           'absGenJet2p5Rapidity1',\n",
      "                           'genJet2p5Pt2',\n",
      "                           'absGenJet2p5Rapidity2',\n",
      "                           'genJet2p5Pt3',\n",
      "                           'absGenJet2p5Rapidity3',\n",
      "                           'genJet2p5Pt4',\n",
      "                           'absGenJet2p5Rapidity4',\n",
      "                           'genJet2p5Pt5',\n",
      "                           'absGenJet2p5Rapidity5',\n",
      "                           'genPt',\n",
      "                           'absGenRapidity',\n",
      "                           'genNjets2p5',\n",
      "                           'absCosDeltaAlpha01',\n",
      "                           'absCosDeltaAlpha02',\n",
      "                           'absCosDeltaAlpha03',\n",
      "                           'absCosDeltaAlpha04',\n",
      "                           'absCosDeltaAlpha05',\n",
      "                           'absCosDeltaAlpha12',\n",
      "                           'absCosDeltaAlpha13',\n",
      "                           'absCosDeltaAlpha14',\n",
      "                           'absCosDeltaAlpha15',\n",
      "                           'absCosDeltaAlpha23',\n",
      "                           'absCosDeltaAlpha24',\n",
      "                           'absCosDeltaAlpha25',\n",
      "                           'absCosDeltaAlpha34',\n",
      "                           'absCosDeltaAlpha35',\n",
      "                           'absCosDeltaAlpha45',\n",
      "                           'absCosDeltaPhi01',\n",
      "                           'absCosDeltaPhi02',\n",
      "                           'absCosDeltaPhi03',\n",
      "                           'absCosDeltaPhi04',\n",
      "                           'absCosDeltaPhi05',\n",
      "                           'absCosDeltaPhi12',\n",
      "                           'absCosDeltaPhi13',\n",
      "                           'absCosDeltaPhi14',\n",
      "                           'absCosDeltaPhi15',\n",
      "                           'absCosDeltaPhi23',\n",
      "                           'absCosDeltaPhi24',\n",
      "                           'absCosDeltaPhi25',\n",
      "                           'absCosDeltaPhi34',\n",
      "                           'absCosDeltaPhi35',\n",
      "                           'absCosDeltaPhi45'],\n",
      "                   'learning_rate': 0.1,\n",
      "                   'max_depth': 7,\n",
      "                   'min_child_weight': 1e-05,\n",
      "                   'n_estimators': 500,\n",
      "                   'nthread': 16,\n",
      "                   'trainevts': -1}],\n",
      " 'recoPt': ['xgboost.sklearn.XGBClassifier',\n",
      "            {'Xbr': ['genPt', 'absGenRapidity'],\n",
      "             'learning_rate': 0.1,\n",
      "             'max_depth': 5,\n",
      "             'min_child_weight': 1e-05,\n",
      "             'n_estimators': 500,\n",
      "             'nthread': 4,\n",
      "             'trainevts': -1}],\n",
      " 'rndseed': 9347865,\n",
      " 'rndseed2': 2315645,\n",
      " 'split_frac': 0.75}\n",
      "('genpfx', 'genDiphotonDumper/trees/InsideAcceptance_125_13TeV')\n",
      "/mnt/t3nfs01/data01/shome/jandrejk/higgs_model_dep/MoriondAnalysis/data\n",
      "output_VHToGG_M125_IA.root\n",
      "tagsDumper/trees/InsideAcceptance_125_13TeV\n",
      "[('/mnt/t3nfs01/data01/shome/jandrejk/higgs_model_dep/MoriondAnalysis/data/output_GluGluHToGG_M125_IA.root', 0, 'tagsDumper/trees/InsideAcceptance_125_13TeV', True, 'genDiphotonDumper/trees/InsideAcceptance_125_13TeV'), ('/mnt/t3nfs01/data01/shome/jandrejk/higgs_model_dep/MoriondAnalysis/data/output_ttHToGG_M125_IA.root', 1, 'tagsDumper/trees/InsideAcceptance_125_13TeV', True, 'genDiphotonDumper/trees/InsideAcceptance_125_13TeV'), ('/mnt/t3nfs01/data01/shome/jandrejk/higgs_model_dep/MoriondAnalysis/data/output_VBFHToGG_M125_IA.root', 2, 'tagsDumper/trees/InsideAcceptance_125_13TeV', True, 'genDiphotonDumper/trees/InsideAcceptance_125_13TeV'), ('/mnt/t3nfs01/data01/shome/jandrejk/higgs_model_dep/MoriondAnalysis/data/output_VHToGG_M125_IA.root', 3, 'tagsDumper/trees/InsideAcceptance_125_13TeV', True, 'genDiphotonDumper/trees/InsideAcceptance_125_13TeV')]\n",
      "The number of selected events are 451428\n",
      "The number of selected events are 589260\n",
      "The number of selected events are 1258965\n",
      "The number of selected events are 1394515\n",
      "shuffling dataset\n",
      "defining bins\n",
      "recoPt\n",
      "<type 'str'>\n",
      "recoNjets2p5\n",
      "<type 'str'>\n",
      "CPU times: user 8.32 s, sys: 18.7 s, total: 27 s\n",
      "Wall time: 52.6 s\n"
     ]
    }
   ],
   "source": [
    "reload(tn)\n",
    "%time effFitter = ut.loadOrMake()"
   ]
  },
  {
   "cell_type": "markdown",
   "metadata": {},
   "source": [
    "# At this point here need to add the angular variables to the data frame"
   ]
  },
  {
   "cell_type": "code",
   "execution_count": null,
   "metadata": {
    "collapsed": true
   },
   "outputs": [],
   "source": []
  },
  {
   "cell_type": "code",
   "execution_count": null,
   "metadata": {
    "collapsed": true
   },
   "outputs": [],
   "source": []
  },
  {
   "cell_type": "markdown",
   "metadata": {
    "collapsed": false
   },
   "source": [
    "## Train classifiers"
   ]
  },
  {
   "cell_type": "markdown",
   "metadata": {},
   "source": [
    "# $\\color{red}{\\text{What happens in the bellow 2 cells?}}$"
   ]
  },
  {
   "cell_type": "code",
   "execution_count": 9,
   "metadata": {
    "collapsed": false
   },
   "outputs": [],
   "source": [
    "#if ut.params.get(\"setupJoblib\",True):\n",
    "#   ut.setupJoblib(ipp_profile=ut.params.get('ippProfile','short'))"
   ]
  },
  {
   "cell_type": "markdown",
   "metadata": {},
   "source": [
    "###  make sure that the trained classifers have been evaluated"
   ]
  },
  {
   "cell_type": "code",
   "execution_count": 10,
   "metadata": {
    "collapsed": false,
    "scrolled": false
   },
   "outputs": [
    {
     "name": "stdout",
     "output_type": "stream",
     "text": [
      "[]\n",
      "Index([u'absCosDeltaAlpha01', u'absCosDeltaAlpha02', u'absCosDeltaAlpha03',\n",
      "       u'absCosDeltaAlpha04', u'absCosDeltaAlpha05', u'absCosDeltaAlpha12',\n",
      "       u'absCosDeltaAlpha13', u'absCosDeltaAlpha14', u'absCosDeltaAlpha15',\n",
      "       u'absCosDeltaAlpha23', u'absCosDeltaAlpha24', u'absCosDeltaAlpha25',\n",
      "       u'absCosDeltaAlpha34', u'absCosDeltaAlpha35', u'absCosDeltaAlpha45',\n",
      "       u'absCosDeltaPhi01', u'absCosDeltaPhi02', u'absCosDeltaPhi03',\n",
      "       u'absCosDeltaPhi04', u'absCosDeltaPhi05', u'absCosDeltaPhi12',\n",
      "       u'absCosDeltaPhi13', u'absCosDeltaPhi14', u'absCosDeltaPhi15',\n",
      "       u'absCosDeltaPhi23', u'absCosDeltaPhi24', u'absCosDeltaPhi25',\n",
      "       u'absCosDeltaPhi34', u'absCosDeltaPhi35', u'absCosDeltaPhi45',\n",
      "       u'absweight', u'class', u'genJet2p5Pt0', u'genJet2p5Pt1',\n",
      "       u'genJet2p5Pt2', u'genJet2p5Pt3', u'genJet2p5Pt4', u'genJet2p5Pt5',\n",
      "       u'genJet2p5Rapidity0', u'genJet2p5Rapidity1', u'genJet2p5Rapidity2',\n",
      "       u'genJet2p5Rapidity3', u'genJet2p5Rapidity4', u'genJet2p5Rapidity5',\n",
      "       u'genLeadGenIso', u'genNjets2p5', u'genPt', u'genRapidity',\n",
      "       u'genSubleadGenIso', u'recoNjets2p5', u'recoPt', u'recoRapidity',\n",
      "       u'weight', u'proc', u'absGenRapidity', u'absGenJet2p5Rapidity0',\n",
      "       u'absGenJet2p5Rapidity1', u'absGenJet2p5Rapidity2',\n",
      "       u'absGenJet2p5Rapidity3', u'absGenJet2p5Rapidity4',\n",
      "       u'absGenJet2p5Rapidity5', u'recoPtBin', u'recoPtCat',\n",
      "       u'recoNjets2p5Bin', u'recoNjets2p5Cat'],\n",
      "      dtype='object')\n"
     ]
    }
   ],
   "source": [
    "ut.runEvaluation(effFitter)"
   ]
  },
  {
   "cell_type": "markdown",
   "metadata": {},
   "source": [
    "### Run the actual training"
   ]
  },
  {
   "cell_type": "code",
   "execution_count": 11,
   "metadata": {
    "collapsed": false
   },
   "outputs": [
    {
     "name": "stdout",
     "output_type": "stream",
     "text": [
      "We need to train the following classifiers class\n",
      "Fitting class\n",
      "<class 'sklearn.ensemble.gradient_boosting.GradientBoostingClassifier'>\n",
      "{'n_estimators': 200, 'learning_rate': 0.2, 'min_weight_fraction_leaf': 0.001, 'max_depth': 5, 'trainevts': 100}\n",
      "['genPt', 'absGenRapidity', 'absCosDeltaAlpha01', 'absCosDeltaAlpha02', 'absCosDeltaAlpha03', 'absCosDeltaAlpha04', 'absCosDeltaAlpha05', 'absCosDeltaAlpha12', 'absCosDeltaAlpha13', 'absCosDeltaAlpha14', 'absCosDeltaAlpha15', 'absCosDeltaAlpha23', 'absCosDeltaAlpha24', 'absCosDeltaAlpha25', 'absCosDeltaAlpha34', 'absCosDeltaAlpha35', 'absCosDeltaAlpha45', 'absCosDeltaPhi01', 'absCosDeltaPhi02', 'absCosDeltaPhi03', 'absCosDeltaPhi04', 'absCosDeltaPhi05', 'absCosDeltaPhi12', 'absCosDeltaPhi13', 'absCosDeltaPhi14', 'absCosDeltaPhi15', 'absCosDeltaPhi23', 'absCosDeltaPhi24', 'absCosDeltaPhi25', 'absCosDeltaPhi34', 'absCosDeltaPhi35', 'absCosDeltaPhi45']\n",
      "class\n",
      "cvoptimize False\n",
      "((100, 32), 3200)\n",
      "((100,), 100)\n",
      "((100,), 100)\n",
      "[[ 35.38825989   0.72241151   0.75976843  -1.          -1.          -1.\n",
      "   -1.          -1.          -1.          -1.          -1.          -1.\n",
      "   -1.          -1.          -1.          -1.          -1.           0.95461029\n",
      "   -1.          -1.          -1.          -1.          -1.          -1.\n",
      "   -1.          -1.          -1.          -1.          -1.          -1.\n",
      "   -1.          -1.        ]\n",
      " [ 14.02158356   0.76120096  -1.          -1.          -1.          -1.\n",
      "   -1.          -1.          -1.          -1.          -1.          -1.\n",
      "   -1.          -1.          -1.          -1.          -1.          -1.\n",
      "   -1.          -1.          -1.          -1.          -1.          -1.\n",
      "   -1.          -1.          -1.          -1.          -1.          -1.\n",
      "   -1.          -1.        ]\n",
      " [ 19.43836594   1.1935941   -1.          -1.          -1.          -1.\n",
      "   -1.          -1.          -1.          -1.          -1.          -1.\n",
      "   -1.          -1.          -1.          -1.          -1.          -1.\n",
      "   -1.          -1.          -1.          -1.          -1.          -1.\n",
      "   -1.          -1.          -1.          -1.          -1.          -1.\n",
      "   -1.          -1.        ]]\n",
      "[ 2  1 -1]\n",
      "[ 0.00024485  0.00031171  0.00026381]\n",
      "CPU times: user 20.7 s, sys: 13.1 s, total: 33.9 s\n",
      "Wall time: 1min 9s\n"
     ]
    }
   ],
   "source": [
    "#reload(tn)\n",
    "#try negative weights\n",
    "%time ut.runTraining(effFitter,useAbsWeight=True)"
   ]
  },
  {
   "cell_type": "markdown",
   "metadata": {},
   "source": [
    "## Save the output"
   ]
  },
  {
   "cell_type": "code",
   "execution_count": 10,
   "metadata": {
    "collapsed": false
   },
   "outputs": [
    {
     "name": "stdout",
     "output_type": "stream",
     "text": [
      "./Train_Configurable_Refactor_higgs_model_dep_2255084.pkl.gz\n",
      "CPU times: user 9.95 s, sys: 237 ms, total: 10.2 s\n",
      "Wall time: 10.9 s\n"
     ]
    }
   ],
   "source": [
    "#reload(tn)\n",
    "%time tn.IO.save(effFitter)"
   ]
  },
  {
   "cell_type": "code",
   "execution_count": 11,
   "metadata": {
    "collapsed": true
   },
   "outputs": [],
   "source": []
  }
 ],
 "metadata": {
  "anaconda-cloud": {},
  "kernelspec": {
   "display_name": "Python [default]",
   "language": "python",
   "name": "python2"
  },
  "language_info": {
   "codemirror_mode": {
    "name": "ipython",
    "version": 2
   },
   "file_extension": ".py",
   "mimetype": "text/x-python",
   "name": "python",
   "nbconvert_exporter": "python",
   "pygments_lexer": "ipython2",
   "version": "2.7.12"
  }
 },
 "nbformat": 4,
 "nbformat_minor": 0
}
