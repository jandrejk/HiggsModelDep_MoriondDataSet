{
 "cells": [
  {
   "cell_type": "markdown",
   "metadata": {
    "collapsed": true
   },
   "source": [
    "# Train classifier to estimate analysis efficiency vs gen variable\n",
    "\n",
    "- Actual training code in train.py\n",
    "- Classifier based on sklearn. Default is GradientBoostedClassifier, \n",
    "    but can be specified at run time.\n",
    "- Use XGBoost for recoPt and recoNjets2p5 training (multi-threading)"
   ]
  },
  {
   "cell_type": "markdown",
   "metadata": {},
   "source": [
    "## Load libraries"
   ]
  },
  {
   "cell_type": "code",
   "execution_count": 1,
   "metadata": {
    "collapsed": false
   },
   "outputs": [
    {
     "data": {
      "application/javascript": [
       "require(['codemirror/mode/clike/clike'], function(Clike) { console.log('ROOTaaS - C++ CodeMirror module loaded'); });"
      ]
     },
     "metadata": {},
     "output_type": "display_data"
    },
    {
     "data": {
      "application/javascript": [
       "IPython.CodeCell.config_defaults.highlight_modes['magic_text/x-c++src'] = {'reg':[/^%%cpp/]};"
      ]
     },
     "metadata": {},
     "output_type": "display_data"
    },
    {
     "name": "stdout",
     "output_type": "stream",
     "text": [
      "Welcome to ROOTaaS 6.06/05\n"
     ]
    }
   ],
   "source": [
    "import train as tn\n",
    "#reload(tn)\n",
    "\n",
    "import plotting\n",
    "reload(plotting)\n",
    "\n",
    "import matplotlib.pyplot as plt\n",
    "plt.style.use('seaborn-poster')\n",
    "%matplotlib inline\n",
    "\n",
    "import numpy as np\n",
    "\n",
    "from pprint import pprint\n",
    "\n",
    "import os\n",
    "import json\n",
    "import importlib\n",
    "\n",
    "import util as ut\n",
    "reload(ut)\n",
    "\n",
    "import angles as ang"
   ]
  },
  {
   "cell_type": "markdown",
   "metadata": {},
   "source": [
    "## Instantiate helper class\n",
    "\n",
    "Data are read from ROOT trees and converted into pandas data frames.  \n",
    "The loading function makes sure that all the needed columns have been read from the trees, otherwise it rebilds the data frame.\n"
   ]
  },
  {
   "cell_type": "markdown",
   "metadata": {},
   "source": [
    "#### In the following cell the parameters are set up. The training data will be read from a root tree located in dataDir. The branches of gen and reco events are the default ones (look at the help function for detailed information). dataFiles gives an extra proces label to the different Higgs production mechanisms."
   ]
  },
  {
   "cell_type": "code",
   "execution_count": 2,
   "metadata": {
    "collapsed": false
   },
   "outputs": [],
   "source": [
    "ut.defaultParameters(dataDir=\"/mnt/t3nfs01/data01/shome/jandrejk/higgs_model_dep/MoriondAnalysis/data\", \n",
    "                     classifiers=['class','recoNjets2p5'],#,'recoPt','recoNjets2p5'], #['class',\n",
    "                          load = True,\n",
    "                     inputName = \"1clfs_pt20cut\",\n",
    "                       outName = \"3clfs\",\n",
    "                        outDir = './classifiers',\n",
    "                    inputDir = '/mnt/t3nfs01/data01/shome/jandrejk/higgs_model_dep/MoriondAnalysis/classifiers',\n",
    "                    defineBins = { 'recoPt' : dict(boundaries=[0.,15.,30.,45.,85.,125.,200.,350.,10000.],overflow=False), # do not add overflow automatically\n",
    "                                  'recoNjets2p5' : dict(boundaries=[-0.5,0.5,1.5,2.5,3.5,100.],overflow=False)\n",
    "                    #              #'genPt' : dict(boundaries=[0.,15.,30.,45.,85.,125.,200.,350.,10000.],overflow=False), # do not add overflow automatically\n",
    "                    #              #'genNjets2p5' : dict(boundaries=[-0.5,0.5,1.5,2.5,3.5,100.],overflow=False)\n",
    "                                 },\n",
    "                      dataFiles=[(0,'output_GluGluHToGG_M125_IA_20GeVgenJetPtcut.root'),                   \n",
    "                                (1,'output_ttHToGG_M125_IA_20GeVgenJetPtcut.root'),                     \n",
    "                                (2,'output_VBFHToGG_M125_IA_20GeVgenJetPtcut.root'),                            \n",
    "                                (3,'output_VHToGG_M125_IA_20GeVgenJetPtcut.root'),\n",
    "                               ]\n",
    "                    )\n",
    "\n"
   ]
  },
  {
   "cell_type": "markdown",
   "metadata": {},
   "source": [
    "#### We want to use machine learning techniques for classification. For that we need to specify the classifier we want to use like here the GradientBoostingClassifier from sklearn.ensamble. Furthermore the parameters of the used classifier have to be set, e.g. the number of training events, max. tree depth, learning rate and so forth."
   ]
  },
  {
   "cell_type": "code",
   "execution_count": 3,
   "metadata": {
    "collapsed": false
   },
   "outputs": [],
   "source": [
    "ut.params[\"class\"] = [ \"sklearn.ensemble.GradientBoostingClassifier\", \n",
    "                      dict(trainevts= -1,\n",
    "                           max_depth=5,learning_rate=0.2,n_estimators=200,\n",
    "                        min_weight_fraction_leaf=1e-3)\n",
    "]\n",
    "\n",
    "\"\"\"\n",
    "ut.params['recoPt'] = [\"xgboost.sklearn.XGBClassifier\",\n",
    "                       { \"Xbr\" : [\"genPt\",\"absGenRapidity\",\n",
    "                                  'DeltaRLeadGamma0','DeltaRLeadGamma1','DeltaRLeadGamma2',\n",
    "                                    'DeltaRLeadGamma3','DeltaRLeadGamma4','DeltaRLeadGamma5',\n",
    "                                    'DeltaRSubleadGamma0','DeltaRSubleadGamma1','DeltaRSubleadGamma2',\n",
    "                                    'DeltaRSubleadGamma3','DeltaRSubleadGamma4','DeltaRSubleadGamma5',\n",
    "                                    'DeltaRLeadGammaSubleadGamma',\n",
    "                                    'DeltaR01','DeltaR02','DeltaR03','DeltaR04','DeltaR05',\n",
    "                                    'DeltaR12','DeltaR13','DeltaR14','DeltaR15','DeltaR23',\n",
    "                                    'DeltaR24','DeltaR25','DeltaR34','DeltaR35','DeltaR45'\n",
    "                                  ],\n",
    "                        \"trainevts\" : -1, \n",
    "                        \"max_depth\" : 5,\"learning_rate\" : 0.1,\n",
    "                        \"n_estimators\" : 500,\"min_child_weight\" : 1e-5,\n",
    "                        \"nthread\" : 4}]\n",
    "\n",
    "\"\"\"\n",
    "\"\"\",\n",
    "                        \"cvoptimize\" : True,\"cv_params_grid\" : { \"max_depth\" : [5, 7, 10],\n",
    "                                                                 \"learning_rate\" : [0.05, 0.1, 0.2], \n",
    "                                                                 \"n_estimators\" : [250,500,700,1000],\n",
    "                                                                 \"min_child_weight\" : [1e-4, 5e-4, 1e-3],\n",
    "                                                                 \"subsample\" : [0.1, 0.2, 0.5, 1.]}, \n",
    "                        \"cv_nfolds\" : 5, \"cv_niter\" : 5,      \n",
    "\"\"\"\n",
    "\n",
    "\n",
    "ut.params['recoNjets2p5'] =  [\"xgboost.sklearn.XGBClassifier\",\n",
    "                        { \"Xbr\" : [\"genJet2p5Pt0\",  \"absGenJet2p5Rapidity0\",\n",
    "                                   \"genJet2p5Pt1\", \"absGenJet2p5Rapidity1\",\n",
    "                                   \"genJet2p5Pt2\", \"absGenJet2p5Rapidity2\",\n",
    "                                   \"genJet2p5Pt3\", \"absGenJet2p5Rapidity3\",\n",
    "                                   \"genJet2p5Pt4\",  \"absGenJet2p5Rapidity4\",\n",
    "                                   \"genJet2p5Pt5\",  \"absGenJet2p5Rapidity5\",\n",
    "                                   \"genJet2p5pt20Pt0\",  \"absGenJet2p5pt20Rapidity0\",\n",
    "                                   \"genJet2p5pt20Pt1\", \"absGenJet2p5pt20Rapidity1\",\n",
    "                                   \"genJet2p5pt20Pt2\", \"absGenJet2p5pt20Rapidity2\",\n",
    "                                   \"genJet2p5pt20Pt3\", \"absGenJet2p5pt20Rapidity3\",\n",
    "                                   \"genJet2p5pt20Pt4\",  \"absGenJet2p5pt20Rapidity4\",\n",
    "                                   \"genJet2p5pt20Pt5\",  \"absGenJet2p5pt20Rapidity5\",\n",
    "                                   \"genPt\",\"absGenRapidity\",\n",
    "                                   \"genNjets2p5\",\n",
    "                                   'genLeadGenIso','genSubleadGenIso',\n",
    "                                 'genAbsCosDeltaAlpha2p5pt2001','genAbsCosDeltaAlpha2p5pt2002',\n",
    "                                 'genAbsCosDeltaAlpha2p5pt2003','genAbsCosDeltaAlpha2p5pt2004',\n",
    "                                 'genAbsCosDeltaAlpha2p5pt2005','genAbsCosDeltaAlpha2p5pt2012',\n",
    "                                 'genAbsCosDeltaAlpha2p5pt2013','genAbsCosDeltaAlpha2p5pt2014',\n",
    "                                 'genAbsCosDeltaAlpha2p5pt2015','genAbsCosDeltaAlpha2p5pt2023',\n",
    "                                 'genAbsCosDeltaAlpha2p5pt2024','genAbsCosDeltaAlpha2p5pt2025',\n",
    "                                 'genAbsCosDeltaAlpha2p5pt2034','genAbsCosDeltaAlpha2p5pt2035',\n",
    "                                 'genAbsCosDeltaAlpha2p5pt2045',\n",
    "                                 'genAbsCosDeltaPhi2p5pt2001','genAbsCosDeltaPhi2p5pt2002',\n",
    "                                 'genAbsCosDeltaPhi2p5pt2003','genAbsCosDeltaPhi2p5pt2004',\n",
    "                                 'genAbsCosDeltaPhi2p5pt2005','genAbsCosDeltaPhi2p5pt2012',\n",
    "                                 'genAbsCosDeltaPhi2p5pt2013','genAbsCosDeltaPhi2p5pt2014',\n",
    "                                 'genAbsCosDeltaPhi2p5pt2015','genAbsCosDeltaPhi2p5pt2023',\n",
    "                                 'genAbsCosDeltaPhi2p5pt2024','genAbsCosDeltaPhi2p5pt2025',\n",
    "                                 'genAbsCosDeltaPhi2p5pt2034','genAbsCosDeltaPhi2p5pt2035',\n",
    "                                 'genAbsCosDeltaPhi2p5pt2045'\n",
    "                                  ],                         \n",
    "            \"trainevts\" : -1, \"max_depth\" : 7,\n",
    "            \"learning_rate\" : 0.1,\"n_estimators\" : 500,\n",
    "            \"min_child_weight\" : 1e-5,\n",
    "            \"nthread\" : 8 }]"
   ]
  },
  {
   "cell_type": "markdown",
   "metadata": {},
   "source": [
    "## The specified genBranches are the input features needed for the training (including the weights). When the classifier is loaded later one has to make sure that the genBranches match the one specified here. "
   ]
  },
  {
   "cell_type": "code",
   "execution_count": 5,
   "metadata": {
    "collapsed": false
   },
   "outputs": [
    {
     "name": "stdout",
     "output_type": "stream",
     "text": [
      "entered config files named my_train_config\n",
      "hi\n",
      "None\n"
     ]
    }
   ],
   "source": [
    "#set the parameters \"class\" defined above\n",
    "ut.setParams()\n",
    "# manual fix in order that the json file doesn't overwrite inputDir\n",
    "ut.params['inputDir'] = \"/mnt/t3nfs01/data01/shome/jandrejk/higgs_model_dep/MoriondAnalysis/classifiers\"\n",
    "\n",
    "\n",
    "ut.params['genpfx'] = 'genDiphotonDumper/trees/InsideAcceptance_125_13TeV'\n",
    "ut.params['pfx'] = 'tagsDumper/trees/InsideAcceptance_125_13TeV'\n",
    "\n",
    "genBr = ang.AppendGenJetVariableNames(['genPt','genRapidity','weight','puweight',\n",
    "                            'genNjets2p5','genLeadGenIso','genSubleadGenIso'])  \n",
    "genBr = ang.AppendPhotonVariableNames(genBr)\n",
    "ut.params['genBranches'] = genBr\n",
    "\n",
    "\n",
    "ut.params['genBranches'] = ['genPt', 'genRapidity', \n",
    "                            'genJet2p5Pt0', 'genJet2p5Pt1', 'genJet2p5Pt2', 'genJet2p5Pt3', \n",
    "                            'genJet2p5Pt4', 'genJet2p5Pt5', 'genJet2p5Rapidity0', 'genJet2p5Rapidity1', \n",
    "                            'genJet2p5Rapidity2', 'genJet2p5Rapidity3', 'genJet2p5Rapidity4', \n",
    "                            'genJet2p5Rapidity5', 'weight', 'genNjets2p5', 'genLeadGenIso', 'genSubleadGenIso', \n",
    "                            \"genJet2p5pt20Pt0\",  \"genJet2p5pt20Rapidity0\",\n",
    "                                   \"genJet2p5pt20Pt1\", \"genJet2p5pt20Rapidity1\",\n",
    "                                   \"genJet2p5pt20Pt2\", \"genJet2p5pt20Rapidity2\",\n",
    "                                   \"genJet2p5pt20Pt3\", \"genJet2p5pt20Rapidity3\",\n",
    "                                   \"genJet2p5pt20Pt4\",  \"genJet2p5pt20Rapidity4\",\n",
    "                                   \"genJet2p5pt20Pt5\",  \"genJet2p5pt20Rapidity5\",\n",
    "                                 'genAbsCosDeltaAlpha2p5pt2001','genAbsCosDeltaAlpha2p5pt2002',\n",
    "                                 'genAbsCosDeltaAlpha2p5pt2003','genAbsCosDeltaAlpha2p5pt2004',\n",
    "                                 'genAbsCosDeltaAlpha2p5pt2005','genAbsCosDeltaAlpha2p5pt2012',\n",
    "                                 'genAbsCosDeltaAlpha2p5pt2013','genAbsCosDeltaAlpha2p5pt2014',\n",
    "                                 'genAbsCosDeltaAlpha2p5pt2015','genAbsCosDeltaAlpha2p5pt2023',\n",
    "                                 'genAbsCosDeltaAlpha2p5pt2024','genAbsCosDeltaAlpha2p5pt2025',\n",
    "                                 'genAbsCosDeltaAlpha2p5pt2034','genAbsCosDeltaAlpha2p5pt2035',\n",
    "                                 'genAbsCosDeltaAlpha2p5pt2045',\n",
    "                                 'genAbsCosDeltaPhi2p5pt2001','genAbsCosDeltaPhi2p5pt2002',\n",
    "                                 'genAbsCosDeltaPhi2p5pt2003','genAbsCosDeltaPhi2p5pt2004',\n",
    "                                 'genAbsCosDeltaPhi2p5pt2005','genAbsCosDeltaPhi2p5pt2012',\n",
    "                                 'genAbsCosDeltaPhi2p5pt2013','genAbsCosDeltaPhi2p5pt2014',\n",
    "                                 'genAbsCosDeltaPhi2p5pt2015','genAbsCosDeltaPhi2p5pt2023',\n",
    "                                 'genAbsCosDeltaPhi2p5pt2024','genAbsCosDeltaPhi2p5pt2025',\n",
    "                                 'genAbsCosDeltaPhi2p5pt2034','genAbsCosDeltaPhi2p5pt2035',\n",
    "                                 'genAbsCosDeltaPhi2p5pt2045'\n",
    "                            ]\n",
    "\n",
    "\n",
    "ut.params['recoBranches'] = ['recoPt','recoRapidity','recoNjets2p5']\n",
    "\n",
    "\n",
    "\n",
    "#ut.params['recoBranches'] = ['recoPt','recoRapidity']"
   ]
  },
  {
   "cell_type": "code",
   "execution_count": 7,
   "metadata": {
    "collapsed": false,
    "scrolled": true
   },
   "outputs": [
    {
     "name": "stdout",
     "output_type": "stream",
     "text": [
      "Load object with the name 1clfs_pt20cut and the following paramters \n",
      "{'class': ['sklearn.ensemble.GradientBoostingClassifier',\n",
      "           {'learning_rate': 0.2,\n",
      "            'max_depth': 5,\n",
      "            'min_weight_fraction_leaf': 0.001,\n",
      "            'n_estimators': 200,\n",
      "            'trainevts': -1}],\n",
      " 'classifiers': ['class', 'recoNjets2p5'],\n",
      " 'clean': [],\n",
      " 'dataDir': '/mnt/t3nfs01/data01/shome/jandrejk/higgs_model_dep/MoriondAnalysis/data',\n",
      " 'dataFiles': [(0, 'output_GluGluHToGG_M125_IA_20GeVgenJetPtcut.root'),\n",
      "               (1, 'output_ttHToGG_M125_IA_20GeVgenJetPtcut.root'),\n",
      "               (2, 'output_VBFHToGG_M125_IA_20GeVgenJetPtcut.root'),\n",
      "               (3, 'output_VHToGG_M125_IA_20GeVgenJetPtcut.root')],\n",
      " 'dataFname': 'output_InsideAcceptance_125.root',\n",
      " 'defineBins': {'recoNjets2p5': {'boundaries': [-0.5,\n",
      "                                                0.5,\n",
      "                                                1.5,\n",
      "                                                2.5,\n",
      "                                                3.5,\n",
      "                                                100.0],\n",
      "                                 'overflow': False},\n",
      "                'recoPt': {'boundaries': [0.0,\n",
      "                                          15.0,\n",
      "                                          30.0,\n",
      "                                          45.0,\n",
      "                                          85.0,\n",
      "                                          125.0,\n",
      "                                          200.0,\n",
      "                                          350.0,\n",
      "                                          10000.0],\n",
      "                           'overflow': False}},\n",
      " 'forceMake': False,\n",
      " 'genBranches': ['genPt',\n",
      "                 'genRapidity',\n",
      "                 'genJet2p5Pt0',\n",
      "                 'genJet2p5Pt1',\n",
      "                 'genJet2p5Pt2',\n",
      "                 'genJet2p5Pt3',\n",
      "                 'genJet2p5Pt4',\n",
      "                 'genJet2p5Pt5',\n",
      "                 'genJet2p5Rapidity0',\n",
      "                 'genJet2p5Rapidity1',\n",
      "                 'genJet2p5Rapidity2',\n",
      "                 'genJet2p5Rapidity3',\n",
      "                 'genJet2p5Rapidity4',\n",
      "                 'genJet2p5Rapidity5',\n",
      "                 'weight',\n",
      "                 'genNjets2p5',\n",
      "                 'genLeadGenIso',\n",
      "                 'genSubleadGenIso',\n",
      "                 'genJet2p5pt20Pt0',\n",
      "                 'genJet2p5pt20Rapidity0',\n",
      "                 'genJet2p5pt20Pt1',\n",
      "                 'genJet2p5pt20Rapidity1',\n",
      "                 'genJet2p5pt20Pt2',\n",
      "                 'genJet2p5pt20Rapidity2',\n",
      "                 'genJet2p5pt20Pt3',\n",
      "                 'genJet2p5pt20Rapidity3',\n",
      "                 'genJet2p5pt20Pt4',\n",
      "                 'genJet2p5pt20Rapidity4',\n",
      "                 'genJet2p5pt20Pt5',\n",
      "                 'genJet2p5pt20Rapidity5',\n",
      "                 'genAbsCosDeltaAlpha2p5pt2001',\n",
      "                 'genAbsCosDeltaAlpha2p5pt2002',\n",
      "                 'genAbsCosDeltaAlpha2p5pt2003',\n",
      "                 'genAbsCosDeltaAlpha2p5pt2004',\n",
      "                 'genAbsCosDeltaAlpha2p5pt2005',\n",
      "                 'genAbsCosDeltaAlpha2p5pt2012',\n",
      "                 'genAbsCosDeltaAlpha2p5pt2013',\n",
      "                 'genAbsCosDeltaAlpha2p5pt2014',\n",
      "                 'genAbsCosDeltaAlpha2p5pt2015',\n",
      "                 'genAbsCosDeltaAlpha2p5pt2023',\n",
      "                 'genAbsCosDeltaAlpha2p5pt2024',\n",
      "                 'genAbsCosDeltaAlpha2p5pt2025',\n",
      "                 'genAbsCosDeltaAlpha2p5pt2034',\n",
      "                 'genAbsCosDeltaAlpha2p5pt2035',\n",
      "                 'genAbsCosDeltaAlpha2p5pt2045',\n",
      "                 'genAbsCosDeltaPhi2p5pt2001',\n",
      "                 'genAbsCosDeltaPhi2p5pt2002',\n",
      "                 'genAbsCosDeltaPhi2p5pt2003',\n",
      "                 'genAbsCosDeltaPhi2p5pt2004',\n",
      "                 'genAbsCosDeltaPhi2p5pt2005',\n",
      "                 'genAbsCosDeltaPhi2p5pt2012',\n",
      "                 'genAbsCosDeltaPhi2p5pt2013',\n",
      "                 'genAbsCosDeltaPhi2p5pt2014',\n",
      "                 'genAbsCosDeltaPhi2p5pt2015',\n",
      "                 'genAbsCosDeltaPhi2p5pt2023',\n",
      "                 'genAbsCosDeltaPhi2p5pt2024',\n",
      "                 'genAbsCosDeltaPhi2p5pt2025',\n",
      "                 'genAbsCosDeltaPhi2p5pt2034',\n",
      "                 'genAbsCosDeltaPhi2p5pt2035',\n",
      "                 'genAbsCosDeltaPhi2p5pt2045'],\n",
      " 'genpfx': 'genDiphotonDumper/trees/InsideAcceptance_125_13TeV',\n",
      " 'inputDir': '/mnt/t3nfs01/data01/shome/jandrejk/higgs_model_dep/MoriondAnalysis/classifiers',\n",
      " 'inputName': '1clfs_pt20cut',\n",
      " 'load': True,\n",
      " 'ncats': 3,\n",
      " 'outDir': './classifiers',\n",
      " 'outName': '3clfs',\n",
      " 'pfx': 'tagsDumper/trees/InsideAcceptance_125_13TeV',\n",
      " 'recoBranches': ['recoPt', 'recoRapidity', 'recoNjets2p5'],\n",
      " 'recoNjets2p5': ['xgboost.sklearn.XGBClassifier',\n",
      "                  {'Xbr': ['genJet2p5Pt0',\n",
      "                           'absGenJet2p5Rapidity0',\n",
      "                           'genJet2p5Pt1',\n",
      "                           'absGenJet2p5Rapidity1',\n",
      "                           'genJet2p5Pt2',\n",
      "                           'absGenJet2p5Rapidity2',\n",
      "                           'genJet2p5Pt3',\n",
      "                           'absGenJet2p5Rapidity3',\n",
      "                           'genJet2p5Pt4',\n",
      "                           'absGenJet2p5Rapidity4',\n",
      "                           'genJet2p5Pt5',\n",
      "                           'absGenJet2p5Rapidity5',\n",
      "                           'genJet2p5pt20Pt0',\n",
      "                           'absGenJet2p5pt20Rapidity0',\n",
      "                           'genJet2p5pt20Pt1',\n",
      "                           'absGenJet2p5pt20Rapidity1',\n",
      "                           'genJet2p5pt20Pt2',\n",
      "                           'absGenJet2p5pt20Rapidity2',\n",
      "                           'genJet2p5pt20Pt3',\n",
      "                           'absGenJet2p5pt20Rapidity3',\n",
      "                           'genJet2p5pt20Pt4',\n",
      "                           'absGenJet2p5pt20Rapidity4',\n",
      "                           'genJet2p5pt20Pt5',\n",
      "                           'absGenJet2p5pt20Rapidity5',\n",
      "                           'genPt',\n",
      "                           'absGenRapidity',\n",
      "                           'genNjets2p5',\n",
      "                           'genLeadGenIso',\n",
      "                           'genSubleadGenIso',\n",
      "                           'genAbsCosDeltaAlpha2p5pt2001',\n",
      "                           'genAbsCosDeltaAlpha2p5pt2002',\n",
      "                           'genAbsCosDeltaAlpha2p5pt2003',\n",
      "                           'genAbsCosDeltaAlpha2p5pt2004',\n",
      "                           'genAbsCosDeltaAlpha2p5pt2005',\n",
      "                           'genAbsCosDeltaAlpha2p5pt2012',\n",
      "                           'genAbsCosDeltaAlpha2p5pt2013',\n",
      "                           'genAbsCosDeltaAlpha2p5pt2014',\n",
      "                           'genAbsCosDeltaAlpha2p5pt2015',\n",
      "                           'genAbsCosDeltaAlpha2p5pt2023',\n",
      "                           'genAbsCosDeltaAlpha2p5pt2024',\n",
      "                           'genAbsCosDeltaAlpha2p5pt2025',\n",
      "                           'genAbsCosDeltaAlpha2p5pt2034',\n",
      "                           'genAbsCosDeltaAlpha2p5pt2035',\n",
      "                           'genAbsCosDeltaAlpha2p5pt2045',\n",
      "                           'genAbsCosDeltaPhi2p5pt2001',\n",
      "                           'genAbsCosDeltaPhi2p5pt2002',\n",
      "                           'genAbsCosDeltaPhi2p5pt2003',\n",
      "                           'genAbsCosDeltaPhi2p5pt2004',\n",
      "                           'genAbsCosDeltaPhi2p5pt2005',\n",
      "                           'genAbsCosDeltaPhi2p5pt2012',\n",
      "                           'genAbsCosDeltaPhi2p5pt2013',\n",
      "                           'genAbsCosDeltaPhi2p5pt2014',\n",
      "                           'genAbsCosDeltaPhi2p5pt2015',\n",
      "                           'genAbsCosDeltaPhi2p5pt2023',\n",
      "                           'genAbsCosDeltaPhi2p5pt2024',\n",
      "                           'genAbsCosDeltaPhi2p5pt2025',\n",
      "                           'genAbsCosDeltaPhi2p5pt2034',\n",
      "                           'genAbsCosDeltaPhi2p5pt2035',\n",
      "                           'genAbsCosDeltaPhi2p5pt2045'],\n",
      "                   'learning_rate': 0.1,\n",
      "                   'max_depth': 7,\n",
      "                   'min_child_weight': 1e-05,\n",
      "                   'n_estimators': 500,\n",
      "                   'nthread': 8,\n",
      "                   'trainevts': -1}],\n",
      " 'rndseed': 9347865,\n",
      " 'rndseed2': 2315645,\n",
      " 'split_frac': 0.75}\n",
      "loading\n",
      "1clfs_pt20cut\n",
      "/mnt/t3nfs01/data01/shome/jandrejk/higgs_model_dep/MoriondAnalysis/classifiers\n",
      "/mnt/t3nfs01/data01/shome/jandrejk/higgs_model_dep/MoriondAnalysis/classifiers\n",
      "/mnt/t3nfs01/data01/shome/jandrejk/higgs_model_dep/MoriondAnalysis/classifiers/1clfs_pt20cut.pkl.gz\n",
      "loading pickle /mnt/t3nfs01/data01/shome/jandrejk/higgs_model_dep/MoriondAnalysis/classifiers/1clfs_pt20cut.pkl.gz\n",
      "loading data /mnt/t3nfs01/data01/shome/jandrejk/higgs_model_dep/MoriondAnalysis/classifiers/1clfs_pt20cut.root\n",
      "<train.EfficiencyFitter object at 0x7ff96541b2d0>\n",
      "Index([u'absweight', u'class', u'genAbsCosDeltaAlpha2p5pt2001',\n",
      "       u'genAbsCosDeltaAlpha2p5pt2002', u'genAbsCosDeltaAlpha2p5pt2003',\n",
      "       u'genAbsCosDeltaAlpha2p5pt2004', u'genAbsCosDeltaAlpha2p5pt2005',\n",
      "       u'genAbsCosDeltaAlpha2p5pt2012', u'genAbsCosDeltaAlpha2p5pt2013',\n",
      "       u'genAbsCosDeltaAlpha2p5pt2014', u'genAbsCosDeltaAlpha2p5pt2015',\n",
      "       u'genAbsCosDeltaAlpha2p5pt2023', u'genAbsCosDeltaAlpha2p5pt2024',\n",
      "       u'genAbsCosDeltaAlpha2p5pt2025', u'genAbsCosDeltaAlpha2p5pt2034',\n",
      "       u'genAbsCosDeltaAlpha2p5pt2035', u'genAbsCosDeltaAlpha2p5pt2045',\n",
      "       u'genAbsCosDeltaPhi2p5pt2001', u'genAbsCosDeltaPhi2p5pt2002',\n",
      "       u'genAbsCosDeltaPhi2p5pt2003', u'genAbsCosDeltaPhi2p5pt2004',\n",
      "       u'genAbsCosDeltaPhi2p5pt2005', u'genAbsCosDeltaPhi2p5pt2012',\n",
      "       u'genAbsCosDeltaPhi2p5pt2013', u'genAbsCosDeltaPhi2p5pt2014',\n",
      "       u'genAbsCosDeltaPhi2p5pt2015', u'genAbsCosDeltaPhi2p5pt2023',\n",
      "       u'genAbsCosDeltaPhi2p5pt2024', u'genAbsCosDeltaPhi2p5pt2025',\n",
      "       u'genAbsCosDeltaPhi2p5pt2034', u'genAbsCosDeltaPhi2p5pt2035',\n",
      "       u'genAbsCosDeltaPhi2p5pt2045', u'genJet2p5Pt0', u'genJet2p5Pt1',\n",
      "       u'genJet2p5Pt2', u'genJet2p5Pt3', u'genJet2p5Pt4', u'genJet2p5Pt5',\n",
      "       u'genJet2p5Rapidity0', u'genJet2p5Rapidity1', u'genJet2p5Rapidity2',\n",
      "       u'genJet2p5Rapidity3', u'genJet2p5Rapidity4', u'genJet2p5Rapidity5',\n",
      "       u'genJet2p5pt20Pt0', u'genJet2p5pt20Pt1', u'genJet2p5pt20Pt2',\n",
      "       u'genJet2p5pt20Pt3', u'genJet2p5pt20Pt4', u'genJet2p5pt20Pt5',\n",
      "       u'genJet2p5pt20Rapidity0', u'genJet2p5pt20Rapidity1',\n",
      "       u'genJet2p5pt20Rapidity2', u'genJet2p5pt20Rapidity3',\n",
      "       u'genJet2p5pt20Rapidity4', u'genJet2p5pt20Rapidity5', u'genLeadGenIso',\n",
      "       u'genNjets2p5', u'genPt', u'genRapidity', u'genSubleadGenIso',\n",
      "       u'recoNjets2p5', u'recoPt', u'recoRapidity', u'weight', u'proc',\n",
      "       u'absGenRapidity', u'absGenJet2p5Rapidity0', u'absGenJet2p5Rapidity1',\n",
      "       u'absGenJet2p5Rapidity2', u'absGenJet2p5Rapidity3',\n",
      "       u'absGenJet2p5Rapidity4', u'absGenJet2p5Rapidity5',\n",
      "       u'absGenJet2p5pt20Rapidity0', u'absGenJet2p5pt20Rapidity1',\n",
      "       u'absGenJet2p5pt20Rapidity2', u'absGenJet2p5pt20Rapidity3',\n",
      "       u'absGenJet2p5pt20Rapidity4', u'absGenJet2p5pt20Rapidity5',\n",
      "       u'recoPtBin', u'recoPtCat', u'recoNjets2p5Bin', u'recoNjets2p5Cat',\n",
      "       u'class_prob_0', u'class_prob_1', u'class_prob_2', u'class_prob_3'],\n",
      "      dtype='object')\n",
      "{'class': GradientBoostingClassifier(criterion='friedman_mse', init=None,\n",
      "              learning_rate=0.2, loss='deviance', max_depth=5,\n",
      "              max_features=None, max_leaf_nodes=None,\n",
      "              min_impurity_split=1e-07, min_samples_leaf=1,\n",
      "              min_samples_split=2, min_weight_fraction_leaf=0.001,\n",
      "              n_estimators=200, presort='auto', random_state=None,\n",
      "              subsample=1.0, verbose=0, warm_start=False)}\n",
      "('onDisk.genBranches', ['genPt', 'genRapidity', 'genJet2p5Pt0', 'genJet2p5Pt1', 'genJet2p5Pt2', 'genJet2p5Pt3', 'genJet2p5Pt4', 'genJet2p5Pt5', 'genJet2p5Rapidity0', 'genJet2p5Rapidity1', 'genJet2p5Rapidity2', 'genJet2p5Rapidity3', 'genJet2p5Rapidity4', 'genJet2p5Rapidity5', 'weight', 'genNjets2p5', 'genLeadGenIso', 'genSubleadGenIso', 'genJet2p5pt20Pt0', 'genJet2p5pt20Rapidity0', 'genJet2p5pt20Pt1', 'genJet2p5pt20Rapidity1', 'genJet2p5pt20Pt2', 'genJet2p5pt20Rapidity2', 'genJet2p5pt20Pt3', 'genJet2p5pt20Rapidity3', 'genJet2p5pt20Pt4', 'genJet2p5pt20Rapidity4', 'genJet2p5pt20Pt5', 'genJet2p5pt20Rapidity5', 'genAbsCosDeltaAlpha2p5pt2001', 'genAbsCosDeltaAlpha2p5pt2002', 'genAbsCosDeltaAlpha2p5pt2003', 'genAbsCosDeltaAlpha2p5pt2004', 'genAbsCosDeltaAlpha2p5pt2005', 'genAbsCosDeltaAlpha2p5pt2012', 'genAbsCosDeltaAlpha2p5pt2013', 'genAbsCosDeltaAlpha2p5pt2014', 'genAbsCosDeltaAlpha2p5pt2015', 'genAbsCosDeltaAlpha2p5pt2023', 'genAbsCosDeltaAlpha2p5pt2024', 'genAbsCosDeltaAlpha2p5pt2025', 'genAbsCosDeltaAlpha2p5pt2034', 'genAbsCosDeltaAlpha2p5pt2035', 'genAbsCosDeltaAlpha2p5pt2045', 'genAbsCosDeltaPhi2p5pt2001', 'genAbsCosDeltaPhi2p5pt2002', 'genAbsCosDeltaPhi2p5pt2003', 'genAbsCosDeltaPhi2p5pt2004', 'genAbsCosDeltaPhi2p5pt2005', 'genAbsCosDeltaPhi2p5pt2012', 'genAbsCosDeltaPhi2p5pt2013', 'genAbsCosDeltaPhi2p5pt2014', 'genAbsCosDeltaPhi2p5pt2015', 'genAbsCosDeltaPhi2p5pt2023', 'genAbsCosDeltaPhi2p5pt2024', 'genAbsCosDeltaPhi2p5pt2025', 'genAbsCosDeltaPhi2p5pt2034', 'genAbsCosDeltaPhi2p5pt2035', 'genAbsCosDeltaPhi2p5pt2045'])\n",
      "('params[\"genBranches\"]', ['genPt', 'genRapidity', 'genJet2p5Pt0', 'genJet2p5Pt1', 'genJet2p5Pt2', 'genJet2p5Pt3', 'genJet2p5Pt4', 'genJet2p5Pt5', 'genJet2p5Rapidity0', 'genJet2p5Rapidity1', 'genJet2p5Rapidity2', 'genJet2p5Rapidity3', 'genJet2p5Rapidity4', 'genJet2p5Rapidity5', 'weight', 'genNjets2p5', 'genLeadGenIso', 'genSubleadGenIso', 'genJet2p5pt20Pt0', 'genJet2p5pt20Rapidity0', 'genJet2p5pt20Pt1', 'genJet2p5pt20Rapidity1', 'genJet2p5pt20Pt2', 'genJet2p5pt20Rapidity2', 'genJet2p5pt20Pt3', 'genJet2p5pt20Rapidity3', 'genJet2p5pt20Pt4', 'genJet2p5pt20Rapidity4', 'genJet2p5pt20Pt5', 'genJet2p5pt20Rapidity5', 'genAbsCosDeltaAlpha2p5pt2001', 'genAbsCosDeltaAlpha2p5pt2002', 'genAbsCosDeltaAlpha2p5pt2003', 'genAbsCosDeltaAlpha2p5pt2004', 'genAbsCosDeltaAlpha2p5pt2005', 'genAbsCosDeltaAlpha2p5pt2012', 'genAbsCosDeltaAlpha2p5pt2013', 'genAbsCosDeltaAlpha2p5pt2014', 'genAbsCosDeltaAlpha2p5pt2015', 'genAbsCosDeltaAlpha2p5pt2023', 'genAbsCosDeltaAlpha2p5pt2024', 'genAbsCosDeltaAlpha2p5pt2025', 'genAbsCosDeltaAlpha2p5pt2034', 'genAbsCosDeltaAlpha2p5pt2035', 'genAbsCosDeltaAlpha2p5pt2045', 'genAbsCosDeltaPhi2p5pt2001', 'genAbsCosDeltaPhi2p5pt2002', 'genAbsCosDeltaPhi2p5pt2003', 'genAbsCosDeltaPhi2p5pt2004', 'genAbsCosDeltaPhi2p5pt2005', 'genAbsCosDeltaPhi2p5pt2012', 'genAbsCosDeltaPhi2p5pt2013', 'genAbsCosDeltaPhi2p5pt2014', 'genAbsCosDeltaPhi2p5pt2015', 'genAbsCosDeltaPhi2p5pt2023', 'genAbsCosDeltaPhi2p5pt2024', 'genAbsCosDeltaPhi2p5pt2025', 'genAbsCosDeltaPhi2p5pt2034', 'genAbsCosDeltaPhi2p5pt2035', 'genAbsCosDeltaPhi2p5pt2045'])\n",
      "('onDisk.recoBranches', ['recoPt', 'recoRapidity', 'recoNjets2p5'])\n",
      "('params[\"recoBranches\"]', ['recoPt', 'recoRapidity', 'recoNjets2p5'])\n",
      "CPU times: user 2.66 s, sys: 15.1 s, total: 17.7 s\n",
      "Wall time: 49.9 s\n"
     ]
    }
   ],
   "source": [
    "reload(tn)\n",
    "%time effFitter = ut.loadOrMake()"
   ]
  },
  {
   "cell_type": "markdown",
   "metadata": {},
   "source": [
    "# Do you want to re-weight"
   ]
  },
  {
   "cell_type": "code",
   "execution_count": 1,
   "metadata": {
    "collapsed": true
   },
   "outputs": [],
   "source": [
    "reweight = False"
   ]
  },
  {
   "cell_type": "code",
   "execution_count": 9,
   "metadata": {
    "collapsed": true
   },
   "outputs": [],
   "source": [
    "def reweightUniform (weight,Cat,factor) :\n",
    "    return weight / factor[int(Cat)]"
   ]
  },
  {
   "cell_type": "code",
   "execution_count": 12,
   "metadata": {
    "collapsed": false
   },
   "outputs": [],
   "source": [
    "effFitter.df['starting_weight'] = df['weight']"
   ]
  },
  {
   "cell_type": "code",
   "execution_count": 13,
   "metadata": {
    "collapsed": false
   },
   "outputs": [
    {
     "name": "stdout",
     "output_type": "stream",
     "text": [
      "recoNjets2p5Cat\n",
      "-1.0     35.640457\n",
      " 0.0      8.121690\n",
      " 1.0     13.152004\n",
      " 2.0     27.284676\n",
      " 3.0      6.068151\n",
      " 4.0      8.755610\n",
      " 5.0     17.138542\n",
      " 6.0      2.789996\n",
      " 7.0      3.555040\n",
      " 8.0      6.541688\n",
      " 9.0      0.961929\n",
      " 10.0     1.110005\n",
      " 11.0     1.937537\n",
      " 12.0     0.663639\n",
      " 13.0     0.707208\n",
      " 14.0     1.089471\n",
      "Name: absweight, dtype: float32\n"
     ]
    }
   ],
   "source": [
    "if reweight :\n",
    "    FACTOR = df.groupby('recoNjets2p5Cat')['absweight'].sum()\n",
    "    print FACTOR\n",
    "\n",
    "    effFitter.df['weight'] = df[['absweight','recoNjets2p5Cat']].apply(lambda x : reweightUniform(*x,factor=FACTOR),axis=1)\n",
    "\n",
    "    effFitter.df['absweight'] = abs(df['weight'].values)\n",
    "\n",
    "\n",
    "    plt.hist((effFitter.df['recoNjets2p5Cat']),weights=effFitter.df['absweight'],bins=np.linspace(-1,15,17)-.5)\n",
    "    plt.xlabel(r'reco-$N_{\\mathrm{jets}}$')\n",
    "    plt.show()"
   ]
  },
  {
   "cell_type": "markdown",
   "metadata": {},
   "source": [
    "# Adding angular/distance variables to the data frame"
   ]
  },
  {
   "cell_type": "code",
   "execution_count": 19,
   "metadata": {
    "collapsed": false
   },
   "outputs": [],
   "source": [
    "#%time effFitter.df = ang.AddAngularVariablesToDataFrame(df=effFitter.df,JetAngles = True, JetGammaAngles=True, GammaGammaAngles=True)\n",
    "#%time effFitter.df = ang.AddDistanceToDataFrame(df=effFitter.df)\n",
    "#%time effFitter.df = ang.AddAntiKTDistance(df=effFitter.df)"
   ]
  },
  {
   "cell_type": "markdown",
   "metadata": {
    "collapsed": false
   },
   "source": [
    "## Train classifiers"
   ]
  },
  {
   "cell_type": "markdown",
   "metadata": {},
   "source": [
    "###  make sure that the trained classifers have been evaluated"
   ]
  },
  {
   "cell_type": "code",
   "execution_count": 22,
   "metadata": {
    "collapsed": false,
    "scrolled": false
   },
   "outputs": [
    {
     "name": "stdout",
     "output_type": "stream",
     "text": [
      "['class']\n",
      "class\n",
      "class\n",
      "class_prob_0\n",
      "Index([u'absweight', u'class', u'genAbsCosDeltaAlpha2p5pt2001',\n",
      "       u'genAbsCosDeltaAlpha2p5pt2002', u'genAbsCosDeltaAlpha2p5pt2003',\n",
      "       u'genAbsCosDeltaAlpha2p5pt2004', u'genAbsCosDeltaAlpha2p5pt2005',\n",
      "       u'genAbsCosDeltaAlpha2p5pt2012', u'genAbsCosDeltaAlpha2p5pt2013',\n",
      "       u'genAbsCosDeltaAlpha2p5pt2014', u'genAbsCosDeltaAlpha2p5pt2015',\n",
      "       u'genAbsCosDeltaAlpha2p5pt2023', u'genAbsCosDeltaAlpha2p5pt2024',\n",
      "       u'genAbsCosDeltaAlpha2p5pt2025', u'genAbsCosDeltaAlpha2p5pt2034',\n",
      "       u'genAbsCosDeltaAlpha2p5pt2035', u'genAbsCosDeltaAlpha2p5pt2045',\n",
      "       u'genAbsCosDeltaPhi2p5pt2001', u'genAbsCosDeltaPhi2p5pt2002',\n",
      "       u'genAbsCosDeltaPhi2p5pt2003', u'genAbsCosDeltaPhi2p5pt2004',\n",
      "       u'genAbsCosDeltaPhi2p5pt2005', u'genAbsCosDeltaPhi2p5pt2012',\n",
      "       u'genAbsCosDeltaPhi2p5pt2013', u'genAbsCosDeltaPhi2p5pt2014',\n",
      "       u'genAbsCosDeltaPhi2p5pt2015', u'genAbsCosDeltaPhi2p5pt2023',\n",
      "       u'genAbsCosDeltaPhi2p5pt2024', u'genAbsCosDeltaPhi2p5pt2025',\n",
      "       u'genAbsCosDeltaPhi2p5pt2034', u'genAbsCosDeltaPhi2p5pt2035',\n",
      "       u'genAbsCosDeltaPhi2p5pt2045', u'genJet2p5Pt0', u'genJet2p5Pt1',\n",
      "       u'genJet2p5Pt2', u'genJet2p5Pt3', u'genJet2p5Pt4', u'genJet2p5Pt5',\n",
      "       u'genJet2p5Rapidity0', u'genJet2p5Rapidity1', u'genJet2p5Rapidity2',\n",
      "       u'genJet2p5Rapidity3', u'genJet2p5Rapidity4', u'genJet2p5Rapidity5',\n",
      "       u'genJet2p5pt20Pt0', u'genJet2p5pt20Pt1', u'genJet2p5pt20Pt2',\n",
      "       u'genJet2p5pt20Pt3', u'genJet2p5pt20Pt4', u'genJet2p5pt20Pt5',\n",
      "       u'genJet2p5pt20Rapidity0', u'genJet2p5pt20Rapidity1',\n",
      "       u'genJet2p5pt20Rapidity2', u'genJet2p5pt20Rapidity3',\n",
      "       u'genJet2p5pt20Rapidity4', u'genJet2p5pt20Rapidity5', u'genLeadGenIso',\n",
      "       u'genNjets2p5', u'genPt', u'genRapidity', u'genSubleadGenIso',\n",
      "       u'recoNjets2p5', u'recoPt', u'recoRapidity', u'weight', u'proc',\n",
      "       u'absGenRapidity', u'absGenJet2p5Rapidity0', u'absGenJet2p5Rapidity1',\n",
      "       u'absGenJet2p5Rapidity2', u'absGenJet2p5Rapidity3',\n",
      "       u'absGenJet2p5Rapidity4', u'absGenJet2p5Rapidity5',\n",
      "       u'absGenJet2p5pt20Rapidity0', u'absGenJet2p5pt20Rapidity1',\n",
      "       u'absGenJet2p5pt20Rapidity2', u'absGenJet2p5pt20Rapidity3',\n",
      "       u'absGenJet2p5pt20Rapidity4', u'absGenJet2p5pt20Rapidity5',\n",
      "       u'recoPtBin', u'recoPtCat', u'recoNjets2p5Bin', u'recoNjets2p5Cat',\n",
      "       u'class_prob_0', u'class_prob_1', u'class_prob_2', u'class_prob_3',\n",
      "       u'starting_weight'],\n",
      "      dtype='object')\n",
      "Index([u'absweight', u'class', u'genAbsCosDeltaAlpha2p5pt2001',\n",
      "       u'genAbsCosDeltaAlpha2p5pt2002', u'genAbsCosDeltaAlpha2p5pt2003',\n",
      "       u'genAbsCosDeltaAlpha2p5pt2004', u'genAbsCosDeltaAlpha2p5pt2005',\n",
      "       u'genAbsCosDeltaAlpha2p5pt2012', u'genAbsCosDeltaAlpha2p5pt2013',\n",
      "       u'genAbsCosDeltaAlpha2p5pt2014', u'genAbsCosDeltaAlpha2p5pt2015',\n",
      "       u'genAbsCosDeltaAlpha2p5pt2023', u'genAbsCosDeltaAlpha2p5pt2024',\n",
      "       u'genAbsCosDeltaAlpha2p5pt2025', u'genAbsCosDeltaAlpha2p5pt2034',\n",
      "       u'genAbsCosDeltaAlpha2p5pt2035', u'genAbsCosDeltaAlpha2p5pt2045',\n",
      "       u'genAbsCosDeltaPhi2p5pt2001', u'genAbsCosDeltaPhi2p5pt2002',\n",
      "       u'genAbsCosDeltaPhi2p5pt2003', u'genAbsCosDeltaPhi2p5pt2004',\n",
      "       u'genAbsCosDeltaPhi2p5pt2005', u'genAbsCosDeltaPhi2p5pt2012',\n",
      "       u'genAbsCosDeltaPhi2p5pt2013', u'genAbsCosDeltaPhi2p5pt2014',\n",
      "       u'genAbsCosDeltaPhi2p5pt2015', u'genAbsCosDeltaPhi2p5pt2023',\n",
      "       u'genAbsCosDeltaPhi2p5pt2024', u'genAbsCosDeltaPhi2p5pt2025',\n",
      "       u'genAbsCosDeltaPhi2p5pt2034', u'genAbsCosDeltaPhi2p5pt2035',\n",
      "       u'genAbsCosDeltaPhi2p5pt2045', u'genJet2p5Pt0', u'genJet2p5Pt1',\n",
      "       u'genJet2p5Pt2', u'genJet2p5Pt3', u'genJet2p5Pt4', u'genJet2p5Pt5',\n",
      "       u'genJet2p5Rapidity0', u'genJet2p5Rapidity1', u'genJet2p5Rapidity2',\n",
      "       u'genJet2p5Rapidity3', u'genJet2p5Rapidity4', u'genJet2p5Rapidity5',\n",
      "       u'genJet2p5pt20Pt0', u'genJet2p5pt20Pt1', u'genJet2p5pt20Pt2',\n",
      "       u'genJet2p5pt20Pt3', u'genJet2p5pt20Pt4', u'genJet2p5pt20Pt5',\n",
      "       u'genJet2p5pt20Rapidity0', u'genJet2p5pt20Rapidity1',\n",
      "       u'genJet2p5pt20Rapidity2', u'genJet2p5pt20Rapidity3',\n",
      "       u'genJet2p5pt20Rapidity4', u'genJet2p5pt20Rapidity5', u'genLeadGenIso',\n",
      "       u'genNjets2p5', u'genPt', u'genRapidity', u'genSubleadGenIso',\n",
      "       u'recoNjets2p5', u'recoPt', u'recoRapidity', u'weight', u'proc',\n",
      "       u'absGenRapidity', u'absGenJet2p5Rapidity0', u'absGenJet2p5Rapidity1',\n",
      "       u'absGenJet2p5Rapidity2', u'absGenJet2p5Rapidity3',\n",
      "       u'absGenJet2p5Rapidity4', u'absGenJet2p5Rapidity5',\n",
      "       u'absGenJet2p5pt20Rapidity0', u'absGenJet2p5pt20Rapidity1',\n",
      "       u'absGenJet2p5pt20Rapidity2', u'absGenJet2p5pt20Rapidity3',\n",
      "       u'absGenJet2p5pt20Rapidity4', u'absGenJet2p5pt20Rapidity5',\n",
      "       u'recoPtBin', u'recoPtCat', u'recoNjets2p5Bin', u'recoNjets2p5Cat',\n",
      "       u'class_prob_0', u'class_prob_1', u'class_prob_2', u'class_prob_3',\n",
      "       u'starting_weight'],\n",
      "      dtype='object')\n"
     ]
    }
   ],
   "source": [
    "ut.runEvaluation(effFitter)"
   ]
  },
  {
   "cell_type": "markdown",
   "metadata": {},
   "source": [
    "### Run the actual training"
   ]
  },
  {
   "cell_type": "code",
   "execution_count": 23,
   "metadata": {
    "collapsed": false,
    "scrolled": true
   },
   "outputs": [
    {
     "name": "stdout",
     "output_type": "stream",
     "text": [
      "We need to train the following classifiers recoNjets2p5\n",
      "Fitting recoNjets2p5\n",
      "<class 'xgboost.sklearn.XGBClassifier'>\n",
      "{'nthread': 8, 'learning_rate': 0.1, 'trainevts': 10, 'min_child_weight': 1e-05, 'Xbr': ['genJet2p5Pt0', 'absGenJet2p5Rapidity0', 'genJet2p5Pt1', 'absGenJet2p5Rapidity1', 'genJet2p5Pt2', 'absGenJet2p5Rapidity2', 'genJet2p5Pt3', 'absGenJet2p5Rapidity3', 'genJet2p5Pt4', 'absGenJet2p5Rapidity4', 'genJet2p5Pt5', 'absGenJet2p5Rapidity5', 'genJet2p5pt20Pt0', 'absGenJet2p5pt20Rapidity0', 'genJet2p5pt20Pt1', 'absGenJet2p5pt20Rapidity1', 'genJet2p5pt20Pt2', 'absGenJet2p5pt20Rapidity2', 'genJet2p5pt20Pt3', 'absGenJet2p5pt20Rapidity3', 'genJet2p5pt20Pt4', 'absGenJet2p5pt20Rapidity4', 'genJet2p5pt20Pt5', 'absGenJet2p5pt20Rapidity5', 'genPt', 'absGenRapidity', 'genNjets2p5', 'genLeadGenIso', 'genSubleadGenIso', 'genAbsCosDeltaAlpha2p5pt2001', 'genAbsCosDeltaAlpha2p5pt2002', 'genAbsCosDeltaAlpha2p5pt2003', 'genAbsCosDeltaAlpha2p5pt2004', 'genAbsCosDeltaAlpha2p5pt2005', 'genAbsCosDeltaAlpha2p5pt2012', 'genAbsCosDeltaAlpha2p5pt2013', 'genAbsCosDeltaAlpha2p5pt2014', 'genAbsCosDeltaAlpha2p5pt2015', 'genAbsCosDeltaAlpha2p5pt2023', 'genAbsCosDeltaAlpha2p5pt2024', 'genAbsCosDeltaAlpha2p5pt2025', 'genAbsCosDeltaAlpha2p5pt2034', 'genAbsCosDeltaAlpha2p5pt2035', 'genAbsCosDeltaAlpha2p5pt2045', 'genAbsCosDeltaPhi2p5pt2001', 'genAbsCosDeltaPhi2p5pt2002', 'genAbsCosDeltaPhi2p5pt2003', 'genAbsCosDeltaPhi2p5pt2004', 'genAbsCosDeltaPhi2p5pt2005', 'genAbsCosDeltaPhi2p5pt2012', 'genAbsCosDeltaPhi2p5pt2013', 'genAbsCosDeltaPhi2p5pt2014', 'genAbsCosDeltaPhi2p5pt2015', 'genAbsCosDeltaPhi2p5pt2023', 'genAbsCosDeltaPhi2p5pt2024', 'genAbsCosDeltaPhi2p5pt2025', 'genAbsCosDeltaPhi2p5pt2034', 'genAbsCosDeltaPhi2p5pt2035', 'genAbsCosDeltaPhi2p5pt2045'], 'n_estimators': 500, 'max_depth': 7}\n",
      "['genJet2p5Pt0', 'absGenJet2p5Rapidity0', 'genJet2p5Pt1', 'absGenJet2p5Rapidity1', 'genJet2p5Pt2', 'absGenJet2p5Rapidity2', 'genJet2p5Pt3', 'absGenJet2p5Rapidity3', 'genJet2p5Pt4', 'absGenJet2p5Rapidity4', 'genJet2p5Pt5', 'absGenJet2p5Rapidity5', 'genJet2p5pt20Pt0', 'absGenJet2p5pt20Rapidity0', 'genJet2p5pt20Pt1', 'absGenJet2p5pt20Rapidity1', 'genJet2p5pt20Pt2', 'absGenJet2p5pt20Rapidity2', 'genJet2p5pt20Pt3', 'absGenJet2p5pt20Rapidity3', 'genJet2p5pt20Pt4', 'absGenJet2p5pt20Rapidity4', 'genJet2p5pt20Pt5', 'absGenJet2p5pt20Rapidity5', 'genPt', 'absGenRapidity', 'genNjets2p5', 'genLeadGenIso', 'genSubleadGenIso', 'genAbsCosDeltaAlpha2p5pt2001', 'genAbsCosDeltaAlpha2p5pt2002', 'genAbsCosDeltaAlpha2p5pt2003', 'genAbsCosDeltaAlpha2p5pt2004', 'genAbsCosDeltaAlpha2p5pt2005', 'genAbsCosDeltaAlpha2p5pt2012', 'genAbsCosDeltaAlpha2p5pt2013', 'genAbsCosDeltaAlpha2p5pt2014', 'genAbsCosDeltaAlpha2p5pt2015', 'genAbsCosDeltaAlpha2p5pt2023', 'genAbsCosDeltaAlpha2p5pt2024', 'genAbsCosDeltaAlpha2p5pt2025', 'genAbsCosDeltaAlpha2p5pt2034', 'genAbsCosDeltaAlpha2p5pt2035', 'genAbsCosDeltaAlpha2p5pt2045', 'genAbsCosDeltaPhi2p5pt2001', 'genAbsCosDeltaPhi2p5pt2002', 'genAbsCosDeltaPhi2p5pt2003', 'genAbsCosDeltaPhi2p5pt2004', 'genAbsCosDeltaPhi2p5pt2005', 'genAbsCosDeltaPhi2p5pt2012', 'genAbsCosDeltaPhi2p5pt2013', 'genAbsCosDeltaPhi2p5pt2014', 'genAbsCosDeltaPhi2p5pt2015', 'genAbsCosDeltaPhi2p5pt2023', 'genAbsCosDeltaPhi2p5pt2024', 'genAbsCosDeltaPhi2p5pt2025', 'genAbsCosDeltaPhi2p5pt2034', 'genAbsCosDeltaPhi2p5pt2035', 'genAbsCosDeltaPhi2p5pt2045', 'class_prob_0', 'class_prob_1', 'class_prob_2', 'class_prob_3']\n",
      "recoNjets2p5Cat\n",
      "cvoptimize False\n",
      "((10, 63), 630)\n",
      "((10,), 10)\n",
      "((10,), 10)\n",
      "[[  6.01932373e+01   5.93180180e-01   3.68170509e+01   1.85088217e+00\n",
      "   -9.99000000e+02   9.99000000e+02  -9.99000000e+02   9.99000000e+02\n",
      "   -9.99000000e+02   9.99000000e+02  -9.99000000e+02   9.99000000e+02\n",
      "    6.01932373e+01   5.93180180e-01   3.68170509e+01   1.85088217e+00\n",
      "   -9.99000000e+02   9.99000000e+02  -9.99000000e+02   9.99000000e+02\n",
      "   -9.99000000e+02   9.99000000e+02  -9.99000000e+02   9.99000000e+02\n",
      "    1.07461662e+02   1.24675024e+00   2.00000000e+00   0.00000000e+00\n",
      "    1.29391515e+00   7.68063307e-01  -1.00000000e+00  -1.00000000e+00\n",
      "   -1.00000000e+00  -1.00000000e+00  -1.00000000e+00  -1.00000000e+00\n",
      "   -1.00000000e+00  -1.00000000e+00  -1.00000000e+00  -1.00000000e+00\n",
      "   -1.00000000e+00  -1.00000000e+00  -1.00000000e+00  -1.00000000e+00\n",
      "    9.99607682e-01  -1.00000000e+00  -1.00000000e+00  -1.00000000e+00\n",
      "   -1.00000000e+00  -1.00000000e+00  -1.00000000e+00  -1.00000000e+00\n",
      "   -1.00000000e+00  -1.00000000e+00  -1.00000000e+00  -1.00000000e+00\n",
      "   -1.00000000e+00  -1.00000000e+00  -1.00000000e+00   3.35072375e-01\n",
      "    3.71449201e-04   5.22787467e-02   6.12277429e-01]\n",
      " [  1.27565826e+02   1.71795309e+00   1.25627754e+02   1.96884736e-01\n",
      "    7.26288147e+01   2.15623569e+00   6.57185669e+01   1.03716373e+00\n",
      "    3.64769745e+01   1.69312561e+00   3.45127296e+01   7.47408867e-01\n",
      "    1.27565826e+02   1.71795309e+00   1.25627754e+02   1.96884736e-01\n",
      "    7.26288147e+01   2.15623569e+00   6.57185669e+01   1.03716373e+00\n",
      "    3.64769745e+01   1.69312561e+00   3.45127296e+01   7.47408867e-01\n",
      "    1.00367737e+02   7.59843409e-01   8.00000000e+00   6.09318352e+00\n",
      "    4.12953019e-01   3.65728110e-01   8.57033849e-01   6.51068330e-01\n",
      "    8.78880680e-01   6.75465465e-01   1.88595187e-02   5.09271026e-01\n",
      "    1.04992531e-01   3.72483313e-01   7.14350879e-01   9.66173112e-01\n",
      "    6.98673069e-01   5.31853437e-01   2.34607775e-02   8.56464982e-01\n",
      "    5.39322019e-01   7.62783468e-01   3.74635965e-01   2.54888777e-02\n",
      "    2.70276129e-01   9.55932975e-01   5.78721762e-01   8.55572701e-01\n",
      "    6.64993227e-01   3.13793331e-01   6.65886402e-01   4.16425198e-01\n",
      "    9.17321682e-01   9.93920445e-01   9.55581009e-01   3.01339931e-01\n",
      "    1.06020670e-01   2.46458790e-01   3.46180609e-01]\n",
      " [  5.39610939e+01   2.35719919e+00  -9.99000000e+02   9.99000000e+02\n",
      "   -9.99000000e+02   9.99000000e+02  -9.99000000e+02   9.99000000e+02\n",
      "   -9.99000000e+02   9.99000000e+02  -9.99000000e+02   9.99000000e+02\n",
      "    5.39610939e+01   2.35719919e+00  -9.99000000e+02   9.99000000e+02\n",
      "   -9.99000000e+02   9.99000000e+02  -9.99000000e+02   9.99000000e+02\n",
      "   -9.99000000e+02   9.99000000e+02  -9.99000000e+02   9.99000000e+02\n",
      "    6.96456528e+01   2.83417225e-01   1.00000000e+00   2.12036133e-01\n",
      "    1.46606445e-01  -1.00000000e+00  -1.00000000e+00  -1.00000000e+00\n",
      "   -1.00000000e+00  -1.00000000e+00  -1.00000000e+00  -1.00000000e+00\n",
      "   -1.00000000e+00  -1.00000000e+00  -1.00000000e+00  -1.00000000e+00\n",
      "   -1.00000000e+00  -1.00000000e+00  -1.00000000e+00  -1.00000000e+00\n",
      "   -1.00000000e+00  -1.00000000e+00  -1.00000000e+00  -1.00000000e+00\n",
      "   -1.00000000e+00  -1.00000000e+00  -1.00000000e+00  -1.00000000e+00\n",
      "   -1.00000000e+00  -1.00000000e+00  -1.00000000e+00  -1.00000000e+00\n",
      "   -1.00000000e+00  -1.00000000e+00  -1.00000000e+00   1.63401480e-01\n",
      "    3.53429770e-01   3.08139262e-01   1.75029488e-01]]\n",
      "[  8.  14.  -1.]\n",
      "[  4.41970744e-06   1.48017722e-05   6.87953587e-07]\n",
      "CPU times: user 52.7 s, sys: 1.53 s, total: 54.3 s\n",
      "Wall time: 9.2 s\n"
     ]
    }
   ],
   "source": [
    "#try negative weights\n",
    "%time ut.runTraining(effFitter,useAbsWeight=True)"
   ]
  },
  {
   "cell_type": "markdown",
   "metadata": {},
   "source": [
    "## Save the output"
   ]
  },
  {
   "cell_type": "code",
   "execution_count": null,
   "metadata": {
    "collapsed": false
   },
   "outputs": [],
   "source": [
    "#reload(tn)\n",
    "%time tn.IO.save(effFitter)"
   ]
  }
 ],
 "metadata": {
  "anaconda-cloud": {},
  "kernelspec": {
   "display_name": "Python [default]",
   "language": "python",
   "name": "python2"
  },
  "language_info": {
   "codemirror_mode": {
    "name": "ipython",
    "version": 2
   },
   "file_extension": ".py",
   "mimetype": "text/x-python",
   "name": "python",
   "nbconvert_exporter": "python",
   "pygments_lexer": "ipython2",
   "version": "2.7.12"
  }
 },
 "nbformat": 4,
 "nbformat_minor": 0
}
